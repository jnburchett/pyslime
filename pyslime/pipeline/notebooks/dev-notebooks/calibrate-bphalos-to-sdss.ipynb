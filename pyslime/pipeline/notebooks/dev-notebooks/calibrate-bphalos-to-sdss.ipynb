{
 "cells": [
  {
   "cell_type": "markdown",
   "id": "dbdd7469",
   "metadata": {},
   "source": [
    "# Verify fits using the halo catolog and the densities of clusters (ie. Coma Cluster) and compare to the SDSS fits. "
   ]
  },
  {
   "cell_type": "code",
   "execution_count": 1,
   "id": "a6bedaa4",
   "metadata": {},
   "outputs": [],
   "source": [
    "from matplotlib import pyplot as plt\n",
    "import numpy as np\n",
    "import jax.numpy as jnp\n",
    "from pyslime import slime\n",
    "from pyslime import utils as pu\n",
    "from pyslime.pipeline import pipelineUtils as ppu\n",
    "import glob\n",
    "import pandas as pd\n",
    "import pickle\n",
    "\n",
    "from astropy.table import Table, vstack\n",
    "from astropy.cosmology import Planck15 as cosmo\n",
    "from astropy.coordinates import SkyCoord\n",
    "import astropy.units as u\n",
    "\n",
    "%matplotlib inline\n",
    "%load_ext autoreload\n",
    "%autoreload 2\n",
    "%config InlineBackend.figure_format = \"retina\"\n",
    "\n",
    "plt.rcParams['font.serif'] = 'Times New Roman'\n",
    "plt.rcParams['font.size'] = 16"
   ]
  },
  {
   "cell_type": "markdown",
   "id": "30533161",
   "metadata": {},
   "source": [
    "### bp halo file"
   ]
  },
  {
   "cell_type": "code",
   "execution_count": 2,
   "id": "0da4ef84",
   "metadata": {},
   "outputs": [],
   "source": [
    "bphalofile =  '/Users/mwilde/Dropbox/slime-mold/data/Bolshoi-Planck/bpdattrim_noDistCut.csv'\n",
    "bphalos = pd.read_csv(bphalofile)"
   ]
  },
  {
   "cell_type": "code",
   "execution_count": 3,
   "id": "ccb49e7d",
   "metadata": {},
   "outputs": [
    {
     "data": {
      "text/plain": [
       "(15.16, 5.409254773364251)"
      ]
     },
     "execution_count": 3,
     "metadata": {},
     "output_type": "execute_result"
    }
   ],
   "source": [
    "bphalos.M200b.max(), np.log10(bphalos.density_CIC.max())"
   ]
  },
  {
   "cell_type": "code",
   "execution_count": 4,
   "id": "8eff9e83",
   "metadata": {},
   "outputs": [
    {
     "data": {
      "text/html": [
       "<div>\n",
       "<style scoped>\n",
       "    .dataframe tbody tr th:only-of-type {\n",
       "        vertical-align: middle;\n",
       "    }\n",
       "\n",
       "    .dataframe tbody tr th {\n",
       "        vertical-align: top;\n",
       "    }\n",
       "\n",
       "    .dataframe thead th {\n",
       "        text-align: right;\n",
       "    }\n",
       "</style>\n",
       "<table border=\"1\" class=\"dataframe\">\n",
       "  <thead>\n",
       "    <tr style=\"text-align: right;\">\n",
       "      <th></th>\n",
       "      <th>M200b</th>\n",
       "      <th>density_CIC</th>\n",
       "      <th>x_dist</th>\n",
       "      <th>y_dist</th>\n",
       "      <th>z_dist</th>\n",
       "    </tr>\n",
       "  </thead>\n",
       "  <tbody>\n",
       "    <tr>\n",
       "      <th>116846</th>\n",
       "      <td>15.087</td>\n",
       "      <td>213803.72</td>\n",
       "      <td>-158.749</td>\n",
       "      <td>-134.504</td>\n",
       "      <td>225.407</td>\n",
       "    </tr>\n",
       "    <tr>\n",
       "      <th>2510282</th>\n",
       "      <td>15.160</td>\n",
       "      <td>256598.89</td>\n",
       "      <td>-111.501</td>\n",
       "      <td>61.480</td>\n",
       "      <td>136.684</td>\n",
       "    </tr>\n",
       "  </tbody>\n",
       "</table>\n",
       "</div>"
      ],
      "text/plain": [
       "          M200b  density_CIC   x_dist   y_dist   z_dist\n",
       "116846   15.087    213803.72 -158.749 -134.504  225.407\n",
       "2510282  15.160    256598.89 -111.501   61.480  136.684"
      ]
     },
     "execution_count": 4,
     "metadata": {},
     "output_type": "execute_result"
    }
   ],
   "source": [
    "bphalos.query('M200b > 15')"
   ]
  },
  {
   "cell_type": "code",
   "execution_count": 5,
   "id": "85fddd08",
   "metadata": {},
   "outputs": [],
   "source": [
    "xcart = bphalos.loc[bphalos.M200b.idxmax()].x_dist\n",
    "ycart = bphalos.loc[bphalos.M200b.idxmax()].y_dist\n",
    "zcart = bphalos.loc[bphalos.M200b.idxmax()].z_dist"
   ]
  },
  {
   "cell_type": "code",
   "execution_count": 6,
   "id": "5d996d13",
   "metadata": {},
   "outputs": [
    {
     "data": {
      "text/plain": [
       "(0.0, 100000.0)"
      ]
     },
     "execution_count": 6,
     "metadata": {},
     "output_type": "execute_result"
    },
    {
     "data": {
      "image/png": "[encoded data removed]",
      "text/plain": [
       "<Figure size 432x288 with 1 Axes>"
      ]
     },
     "metadata": {
      "needs_background": "light"
     },
     "output_type": "display_data"
    }
   ],
   "source": [
    "kwargs = {'histtype':'step', 'density':False}\n",
    "bphalos.M200b.hist(bins=40, **kwargs);\n",
    "sdss = pd.read_csv('/Users/mwilde/Dropbox/slime-mold/data/sdssGalaxy_rsdCorr_dbscan_e2p0ms3_dz0p001_m10p0.csv')\n",
    "sdss.mhalo.hist(bins=80, **kwargs);\n",
    "# sdss.mstars.hist(bins=80, **kwargs);\n",
    "plt.xlim(11,16)\n",
    "plt.ylim(0,0.1e6)"
   ]
  },
  {
   "cell_type": "code",
   "execution_count": 7,
   "metadata": {},
   "outputs": [],
   "source": [
    "sdss = pd.read_csv('/Users/mwilde/Dropbox/slime-mold/data/sdssGalaxy_rsdCorr_dbscan_e2p0ms3_dz0p001_m10p0.csv')"
   ]
  },
  {
   "cell_type": "markdown",
   "id": "c24cc1be",
   "metadata": {},
   "source": [
    "### coma cluster mass  $M_{200} \\sim 10^{15} M_{\\odot}$ \n",
    "https://iopscience.iop.org/article/10.1086/523101/pdf"
   ]
  },
  {
   "cell_type": "markdown",
   "id": "73b4dc31",
   "metadata": {},
   "source": [
    "# load in the bp sim to query density at location of large halos"
   ]
  },
  {
   "cell_type": "code",
   "execution_count": 8,
   "id": "513e1811",
   "metadata": {},
   "outputs": [],
   "source": [
    "logrhom = ppu.get_sim_data('/Users/mwilde/Dropbox/slime-mold/data/final_data/BP_0214_densities_1024_0.bin')"
   ]
  },
  {
   "cell_type": "code",
   "execution_count": 9,
   "id": "f0e56bdc",
   "metadata": {},
   "outputs": [],
   "source": [
    "bpDensityFile = '/Users/mwilde/Dropbox/slime-mold/data/final_data/BP_0214_densities_1024_0.bin'\n",
    "rho_m = np.fromfile(bpDensityFile, dtype=np.float64)\n"
   ]
  },
  {
   "cell_type": "code",
   "execution_count": 10,
   "id": "ef5522b1",
   "metadata": {},
   "outputs": [],
   "source": [
    "rho_m = np.reshape(rho_m, (1024, 1024, 1024))"
   ]
  },
  {
   "cell_type": "markdown",
   "id": "a8aff841",
   "metadata": {},
   "source": [
    "# load in bp-slime to compare"
   ]
  },
  {
   "cell_type": "code",
   "execution_count": 11,
   "id": "ce3a0401",
   "metadata": {},
   "outputs": [
    {
     "name": "stdout",
     "output_type": "stream",
     "text": [
      "(960, 960, 960) (0, 1, 2)\n",
      "(960, 960, 960)\n"
     ]
    },
    {
     "name": "stderr",
     "output_type": "stream",
     "text": [
      "/Users/mwilde/python/pyslime/pyslime/utils.py:331: RuntimeWarning: divide by zero encountered in log10\n",
      "  slimeobj.data = np.log10(slimeobj.data)\n"
     ]
    }
   ],
   "source": [
    "smdir = '../data/BP_z=0p0/'\n",
    "bpslime_dir = '/Volumes/GoogleDrive/My Drive/SlimeMold/2021-11-23-VACv2/BP_z=0.0/'\n",
    "bpslime_datafile='trace.bin'\n",
    "sdss_slime_dir = '/Volumes/GoogleDrive/My Drive/SlimeMold/2021-11-23-VACv2/SDSS_z=44-476mpc/'\n",
    "sdss_datafile = 'trace.bin'\n",
    "\n",
    "# bpslime_old = get_slime(smdir)\n",
    "bpslime = pu.get_slime(bpslime_dir,\n",
    "                         datafile=bpslime_datafile,\n",
    "                         dtype=np.float32,\n",
    "                         standardize=False)"
   ]
  },
  {
   "cell_type": "code",
   "execution_count": 12,
   "id": "961ba246",
   "metadata": {},
   "outputs": [],
   "source": [
    "xidx, yidx, zidx = bpslime.cartesian_to_idx(np.array(bphalos.x_dist), np.array(bphalos.y_dist), np.array(bphalos.z_dist))\n",
    "# xcut, ycut, zcut = [(idx < 1000) & (idx>24) for idx in (xidx, yidx, zidx)]\n",
    "# slimedens = bpslime.data[xidx, yidx, zidx]"
   ]
  },
  {
   "cell_type": "code",
   "execution_count": 13,
   "id": "29f4b8ca",
   "metadata": {},
   "outputs": [
    {
     "ename": "IndexError",
     "evalue": "index 960 is out of bounds for axis 0 with size 960",
     "output_type": "error",
     "traceback": [
      "\u001b[0;31m---------------------------------------------------------------------------\u001b[0m",
      "\u001b[0;31mIndexError\u001b[0m                                Traceback (most recent call last)",
      "\u001b[0;32m<ipython-input-13-815f5ab8f29f>\u001b[0m in \u001b[0;36m<module>\u001b[0;34m\u001b[0m\n\u001b[0;32m----> 1\u001b[0;31m xdist, ydist, zdist = pu.idx_to_cartesian(\n\u001b[0m\u001b[1;32m      2\u001b[0m             \u001b[0mxidx\u001b[0m\u001b[0;34m,\u001b[0m \u001b[0myidx\u001b[0m\u001b[0;34m,\u001b[0m \u001b[0mzidx\u001b[0m\u001b[0;34m,\u001b[0m \u001b[0mslime\u001b[0m\u001b[0;34m=\u001b[0m\u001b[0mbpslime\u001b[0m\u001b[0;34m\u001b[0m\u001b[0;34m\u001b[0m\u001b[0m\n\u001b[1;32m      3\u001b[0m         )\n\u001b[1;32m      4\u001b[0m \u001b[0mxdist\u001b[0m\u001b[0;34m.\u001b[0m\u001b[0mmax\u001b[0m\u001b[0;34m(\u001b[0m\u001b[0;34m)\u001b[0m\u001b[0;34m,\u001b[0m \u001b[0mydist\u001b[0m\u001b[0;34m.\u001b[0m\u001b[0mmax\u001b[0m\u001b[0;34m(\u001b[0m\u001b[0;34m)\u001b[0m\u001b[0;34m,\u001b[0m \u001b[0mzdist\u001b[0m\u001b[0;34m.\u001b[0m\u001b[0mmax\u001b[0m\u001b[0;34m(\u001b[0m\u001b[0;34m)\u001b[0m\u001b[0;34m\u001b[0m\u001b[0;34m\u001b[0m\u001b[0m\n",
      "\u001b[0;32m~/python/pyslime/pyslime/utils.py\u001b[0m in \u001b[0;36midx_to_cartesian\u001b[0;34m(i, j, k, slime, griddims, minvals, maxvals)\u001b[0m\n\u001b[1;32m    236\u001b[0m     \u001b[0mx\u001b[0m \u001b[0;34m=\u001b[0m \u001b[0mxvals\u001b[0m\u001b[0;34m[\u001b[0m\u001b[0mi\u001b[0m\u001b[0;34m]\u001b[0m\u001b[0;34m\u001b[0m\u001b[0;34m\u001b[0m\u001b[0m\n\u001b[1;32m    237\u001b[0m     \u001b[0my\u001b[0m \u001b[0;34m=\u001b[0m \u001b[0myvals\u001b[0m\u001b[0;34m[\u001b[0m\u001b[0mj\u001b[0m\u001b[0;34m]\u001b[0m\u001b[0;34m\u001b[0m\u001b[0;34m\u001b[0m\u001b[0m\n\u001b[0;32m--> 238\u001b[0;31m     \u001b[0mz\u001b[0m \u001b[0;34m=\u001b[0m \u001b[0mzvals\u001b[0m\u001b[0;34m[\u001b[0m\u001b[0mk\u001b[0m\u001b[0;34m]\u001b[0m\u001b[0;34m\u001b[0m\u001b[0;34m\u001b[0m\u001b[0m\n\u001b[0m\u001b[1;32m    239\u001b[0m     \u001b[0;32mreturn\u001b[0m \u001b[0mx\u001b[0m\u001b[0;34m,\u001b[0m \u001b[0my\u001b[0m\u001b[0;34m,\u001b[0m \u001b[0mz\u001b[0m\u001b[0;34m\u001b[0m\u001b[0;34m\u001b[0m\u001b[0m\n\u001b[1;32m    240\u001b[0m \u001b[0;34m\u001b[0m\u001b[0m\n",
      "\u001b[0;31mIndexError\u001b[0m: index 960 is out of bounds for axis 0 with size 960"
     ]
    }
   ],
   "source": [
    "xdist, ydist, zdist = pu.idx_to_cartesian(\n",
    "            xidx, yidx, zidx, slime=bpslime\n",
    "        )\n",
    "xdist.max(), ydist.max(), zdist.max()"
   ]
  },
  {
   "cell_type": "code",
   "execution_count": 17,
   "metadata": {},
   "outputs": [
    {
     "ename": "IndexError",
     "evalue": "index 960 is out of bounds for axis 0 with size 960",
     "output_type": "error",
     "traceback": [
      "\u001b[0;31m---------------------------------------------------------------------------\u001b[0m",
      "\u001b[0;31mIndexError\u001b[0m                                Traceback (most recent call last)",
      "\u001b[0;32m<ipython-input-17-7944e3023ae3>\u001b[0m in \u001b[0;36m<module>\u001b[0;34m\u001b[0m\n\u001b[0;32m----> 1\u001b[0;31m xdist, ydist, zdist = pu.idx_to_cartesian(\n\u001b[0m\u001b[1;32m      2\u001b[0m             \u001b[0mxidx\u001b[0m\u001b[0;34m,\u001b[0m \u001b[0myidx\u001b[0m\u001b[0;34m,\u001b[0m \u001b[0mzidx\u001b[0m\u001b[0;34m,\u001b[0m \u001b[0mslime\u001b[0m\u001b[0;34m=\u001b[0m\u001b[0mbpslime\u001b[0m\u001b[0;34m\u001b[0m\u001b[0;34m\u001b[0m\u001b[0m\n\u001b[1;32m      3\u001b[0m         )\n\u001b[1;32m      4\u001b[0m \u001b[0;34m\u001b[0m\u001b[0m\n\u001b[1;32m      5\u001b[0m \u001b[0mbpidx_x\u001b[0m\u001b[0;34m,\u001b[0m \u001b[0mbpidx_y\u001b[0m\u001b[0;34m,\u001b[0m \u001b[0mbpidx_z\u001b[0m \u001b[0;34m=\u001b[0m \u001b[0mppu\u001b[0m\u001b[0;34m.\u001b[0m\u001b[0mbprho_dist_to_idx\u001b[0m\u001b[0;34m(\u001b[0m\u001b[0mxdist\u001b[0m\u001b[0;34m,\u001b[0m \u001b[0mydist\u001b[0m\u001b[0;34m,\u001b[0m \u001b[0mzdist\u001b[0m\u001b[0;34m,\u001b[0m \u001b[0mbrick_size\u001b[0m\u001b[0;34m=\u001b[0m\u001b[0;36m961\u001b[0m\u001b[0;34m)\u001b[0m\u001b[0;34m\u001b[0m\u001b[0;34m\u001b[0m\u001b[0m\n",
      "\u001b[0;32m~/python/pyslime/pyslime/utils.py\u001b[0m in \u001b[0;36midx_to_cartesian\u001b[0;34m(i, j, k, slime, griddims, minvals, maxvals)\u001b[0m\n\u001b[1;32m    236\u001b[0m     \u001b[0mx\u001b[0m \u001b[0;34m=\u001b[0m \u001b[0mxvals\u001b[0m\u001b[0;34m[\u001b[0m\u001b[0mi\u001b[0m\u001b[0;34m]\u001b[0m\u001b[0;34m\u001b[0m\u001b[0;34m\u001b[0m\u001b[0m\n\u001b[1;32m    237\u001b[0m     \u001b[0my\u001b[0m \u001b[0;34m=\u001b[0m \u001b[0myvals\u001b[0m\u001b[0;34m[\u001b[0m\u001b[0mj\u001b[0m\u001b[0;34m]\u001b[0m\u001b[0;34m\u001b[0m\u001b[0;34m\u001b[0m\u001b[0m\n\u001b[0;32m--> 238\u001b[0;31m     \u001b[0mz\u001b[0m \u001b[0;34m=\u001b[0m \u001b[0mzvals\u001b[0m\u001b[0;34m[\u001b[0m\u001b[0mk\u001b[0m\u001b[0;34m]\u001b[0m\u001b[0;34m\u001b[0m\u001b[0;34m\u001b[0m\u001b[0m\n\u001b[0m\u001b[1;32m    239\u001b[0m     \u001b[0;32mreturn\u001b[0m \u001b[0mx\u001b[0m\u001b[0;34m,\u001b[0m \u001b[0my\u001b[0m\u001b[0;34m,\u001b[0m \u001b[0mz\u001b[0m\u001b[0;34m\u001b[0m\u001b[0;34m\u001b[0m\u001b[0m\n\u001b[1;32m    240\u001b[0m \u001b[0;34m\u001b[0m\u001b[0m\n",
      "\u001b[0;31mIndexError\u001b[0m: index 960 is out of bounds for axis 0 with size 960"
     ]
    }
   ],
   "source": [
    "\n",
    "\n",
    "bpidx_x, bpidx_y, bpidx_z = ppu.bprho_dist_to_idx(xdist, ydist, zdist, brick_size=960)"
   ]
  },
  {
   "cell_type": "code",
   "execution_count": null,
   "id": "eebfcdd8",
   "metadata": {},
   "outputs": [],
   "source": []
  },
  {
   "cell_type": "markdown",
   "metadata": {},
   "source": [
    "# BP-slime density at the location of each halo"
   ]
  },
  {
   "cell_type": "code",
   "execution_count": null,
   "id": "a1091dc6",
   "metadata": {},
   "outputs": [
    {
     "data": {
      "image/png": "[encoded data removed]",
      "text/plain": [
       "<Figure size 432x288 with 1 Axes>"
      ]
     },
     "metadata": {
      "image/png": {
       "height": 256,
       "width": 407
      },
      "needs_background": "light"
     },
     "output_type": "display_data"
    }
   ],
   "source": [
    "bins = np.linspace(0, 4, 500)\n",
    "plt.hist(slimedens, bins=bins);"
   ]
  },
  {
   "cell_type": "code",
   "execution_count": null,
   "id": "759c9c1e",
   "metadata": {},
   "outputs": [],
   "source": [
    "bpdens = logrhom[bpidx_x, bpidx_y, bpidx_z]"
   ]
  },
  {
   "cell_type": "markdown",
   "metadata": {},
   "source": [
    "# simulation density at the location of the halos"
   ]
  },
  {
   "cell_type": "code",
   "execution_count": null,
   "id": "5acb4e91",
   "metadata": {},
   "outputs": [
    {
     "data": {
      "image/png": "[encoded data removed]",
      "text/plain": [
       "<Figure size 432x288 with 1 Axes>"
      ]
     },
     "metadata": {
      "image/png": {
       "height": 254,
       "width": 407
      },
      "needs_background": "light"
     },
     "output_type": "display_data"
    }
   ],
   "source": [
    "plt.hist(bpdens, bins=400);"
   ]
  },
  {
   "cell_type": "markdown",
   "id": "97e77ea9",
   "metadata": {},
   "source": [
    "# slime density at the largest halos in the BP sims"
   ]
  },
  {
   "cell_type": "code",
   "execution_count": null,
   "metadata": {},
   "outputs": [
    {
     "data": {
      "text/plain": [
       "M200b              15.160\n",
       "density_CIC    256598.890\n",
       "x_dist           -111.501\n",
       "y_dist             61.480\n",
       "z_dist            136.684\n",
       "Name: 2510282, dtype: float64"
      ]
     },
     "execution_count": 21,
     "metadata": {},
     "output_type": "execute_result"
    }
   ],
   "source": [
    "bphalos.loc[bphalos.M200b.idxmax()]"
   ]
  },
  {
   "cell_type": "code",
   "execution_count": null,
   "id": "6c2b9d2b",
   "metadata": {},
   "outputs": [
    {
     "data": {
      "text/plain": [
       "3.9503183"
      ]
     },
     "execution_count": 22,
     "metadata": {},
     "output_type": "execute_result"
    }
   ],
   "source": [
    "xcart = bphalos.loc[bphalos.M200b.idxmax()].x_dist\n",
    "ycart = bphalos.loc[bphalos.M200b.idxmax()].y_dist\n",
    "zcart = bphalos.loc[bphalos.M200b.idxmax()].z_dist\n",
    "xidx, yidx, zidx = bpslime.cartesian_to_idx(xcart, ycart, zcart)\n",
    "slimedens = bpslime.data[xidx, yidx, zidx]\n",
    "slimedens"
   ]
  },
  {
   "cell_type": "markdown",
   "id": "8f8bb356",
   "metadata": {},
   "source": [
    "# kernel density at that location"
   ]
  },
  {
   "cell_type": "code",
   "execution_count": null,
   "id": "a8bb8353",
   "metadata": {},
   "outputs": [
    {
     "data": {
      "text/plain": [
       "5.409254773364251"
      ]
     },
     "execution_count": 23,
     "metadata": {},
     "output_type": "execute_result"
    }
   ],
   "source": [
    "kernel_density = bphalos.loc[bphalos.M200b.idxmax()].density_CIC\n",
    "np.log10(kernel_density)"
   ]
  },
  {
   "cell_type": "markdown",
   "id": "1294a6f1",
   "metadata": {},
   "source": [
    "# bp density at this location"
   ]
  },
  {
   "cell_type": "code",
   "execution_count": null,
   "id": "26a5b7a5",
   "metadata": {},
   "outputs": [
    {
     "data": {
      "text/plain": [
       "3.454229280355093"
      ]
     },
     "execution_count": 24,
     "metadata": {},
     "output_type": "execute_result"
    }
   ],
   "source": [
    "xdist, ydist, zdist = pu.idx_to_cartesian(\n",
    "            xidx, yidx, zidx, slime=bpslime\n",
    "        )\n",
    "\n",
    "bpidx_x, bpidx_y, bpidx_z = ppu.bprho_dist_to_idx(xdist, ydist, zdist)\n",
    "bpdense = logrhom[bpidx_x, bpidx_y, bpidx_z]\n",
    "bpdense"
   ]
  },
  {
   "cell_type": "markdown",
   "id": "f3e61b27",
   "metadata": {},
   "source": [
    "# coma density from sdss-slime fits\n"
   ]
  },
  {
   "cell_type": "code",
   "execution_count": null,
   "id": "f98a3162",
   "metadata": {},
   "outputs": [
    {
     "name": "stdout",
     "output_type": "stream",
     "text": [
      "(728, 1200, 712) (0, 1, 2)\n",
      "(712, 1200, 728)\n"
     ]
    }
   ],
   "source": [
    "sldat = pu.get_slime(sdss_slime_dir,\n",
    "                         datafile=sdss_datafile,\n",
    "                         dtype=np.float32,\n",
    "                         standardize=True)"
   ]
  },
  {
   "cell_type": "code",
   "execution_count": null,
   "id": "d5531719",
   "metadata": {},
   "outputs": [
    {
     "data": {
      "text/plain": [
       "(3.3685205, 3.5501978)"
      ]
     },
     "execution_count": 37,
     "metadata": {},
     "output_type": "execute_result"
    }
   ],
   "source": [
    "abelcoords = SkyCoord(\"11h44m36.5s +19d45m32\", unit=(u.hourangle, u.deg))\n",
    "comacoords = SkyCoord(\"12h59m48.7s +27d58m50s\", unit=(u.hourangle, u.deg))\n",
    "\n",
    "abel_ra = abelcoords.ra.deg\n",
    "abel_dec = abelcoords.dec.deg\n",
    "abel_z = 0.0217\n",
    "\n",
    "coma_ra = comacoords.ra.deg\n",
    "coma_dec = comacoords.dec.deg\n",
    "coma_z = 0.023100\n",
    "\n",
    "abel_dens = sldat.sky_to_data(abel_ra, abel_dec, abel_z)\n",
    "coma_dens = sldat.sky_to_data(coma_ra, coma_dec, coma_z)\n",
    "\n",
    "abel_dens, coma_dens"
   ]
  },
  {
   "cell_type": "code",
   "execution_count": null,
   "metadata": {},
   "outputs": [
    {
     "data": {
      "text/plain": [
       "3.7758982"
      ]
     },
     "execution_count": 38,
     "metadata": {},
     "output_type": "execute_result"
    }
   ],
   "source": [
    "sldat.data.max()"
   ]
  },
  {
   "cell_type": "markdown",
   "id": "da923f73",
   "metadata": {},
   "source": [
    "# check to see what the density is at the location of the most massive galaxy in sdss (should be the same?)"
   ]
  },
  {
   "cell_type": "code",
   "execution_count": null,
   "id": "82be27a9",
   "metadata": {},
   "outputs": [],
   "source": [
    "sdss = pd.read_csv('/Users/mwilde/Dropbox/slime-mold/data/sdssGalaxy_rsdCorr_dbscan_e2p0ms3_dz0p001_m10p0.csv')"
   ]
  },
  {
   "cell_type": "code",
   "execution_count": null,
   "metadata": {},
   "outputs": [],
   "source": []
  },
  {
   "cell_type": "code",
   "execution_count": null,
   "id": "0b75a555",
   "metadata": {},
   "outputs": [
    {
     "data": {
      "text/plain": [
       "(194.95291666666662,\n",
       " 27.980555555555554,\n",
       " 0.0231,\n",
       " 176.1520833333333,\n",
       " 19.75888888888889,\n",
       " 0.0217)"
      ]
     },
     "execution_count": 40,
     "metadata": {},
     "output_type": "execute_result"
    }
   ],
   "source": [
    "coma_ra, coma_dec, coma_z, abel_ra, abel_dec, abel_z"
   ]
  },
  {
   "cell_type": "code",
   "execution_count": null,
   "id": "639d8155",
   "metadata": {},
   "outputs": [
    {
     "data": {
      "text/plain": [
       "mstars        12.093392\n",
       "RA           208.621911\n",
       "DEC            4.992535\n",
       "Z              0.076129\n",
       "NSAID     153759.000000\n",
       "mhalo         15.999420\n",
       "zadopt         0.076129\n",
       "newz           0.000000\n",
       "x_cart      -311.381887\n",
       "y_cart      -169.925423\n",
       "z_cart        30.988278\n",
       "Name: 80701, dtype: float64"
      ]
     },
     "execution_count": 41,
     "metadata": {},
     "output_type": "execute_result"
    }
   ],
   "source": [
    "# most massive galaxy\n",
    "sdss.loc[sdss.mhalo.idxmax()]"
   ]
  },
  {
   "cell_type": "code",
   "execution_count": null,
   "id": "b9d7a7e1",
   "metadata": {},
   "outputs": [
    {
     "data": {
      "text/plain": [
       "2.9492097"
      ]
     },
     "execution_count": 42,
     "metadata": {},
     "output_type": "execute_result"
    }
   ],
   "source": [
    "maxRA = sdss.loc[sdss.mhalo.idxmax()].RA\n",
    "maxDEC = sdss.loc[sdss.mhalo.idxmax()].DEC\n",
    "maxz = sdss.loc[sdss.mhalo.idxmax()].zadopt\n",
    "sldat.sky_to_data(maxRA, maxDEC, maxz)"
   ]
  },
  {
   "cell_type": "code",
   "execution_count": null,
   "id": "41368e0f",
   "metadata": {},
   "outputs": [
    {
     "data": {
      "text/plain": [
       "4.218907"
      ]
     },
     "execution_count": 83,
     "metadata": {},
     "output_type": "execute_result"
    }
   ],
   "source": [
    "maxRA = sdss.loc[sdss.mhalo.idxmax()].RA\n",
    "maxDEC = sdss.loc[sdss.mhalo.idxmax()].DEC\n",
    "maxz = sdss.loc[sdss.mhalo.idxmax()].zadopt\n",
    "sldat.sky_to_data(maxRA, maxDEC, maxz)"
   ]
  },
  {
   "cell_type": "code",
   "execution_count": null,
   "id": "6ed90c23",
   "metadata": {},
   "outputs": [
    {
     "data": {
      "text/plain": [
       "(array([467]), array([504]), array([145]))"
      ]
     },
     "execution_count": 84,
     "metadata": {},
     "output_type": "execute_result"
    }
   ],
   "source": [
    "np.where(sldat.data == sldat.data.max())"
   ]
  },
  {
   "cell_type": "markdown",
   "id": "5535edad",
   "metadata": {},
   "source": [
    "# check the mapping to see if its producing correct values"
   ]
  },
  {
   "cell_type": "markdown",
   "id": "9718f0b8",
   "metadata": {},
   "source": [
    "# map coma density"
   ]
  },
  {
   "cell_type": "code",
   "execution_count": null,
   "id": "8097f43e",
   "metadata": {},
   "outputs": [],
   "source": [
    "sdss = pd.read_csv('/Users/mwilde/Dropbox/slime-mold/data/sdssGalaxy_rsdCorr_dbscan_e2p0ms3_dz0p001_m10p0.csv')\n",
    "sdssdens = sldat.sky_to_data(sdss.RA.values, sdss.DEC.values, sdss.Z.values)\n"
   ]
  },
  {
   "cell_type": "code",
   "execution_count": null,
   "id": "340f8e0f",
   "metadata": {},
   "outputs": [
    {
     "data": {
      "image/png": "[encoded data removed]",
      "text/plain": [
       "<Figure size 432x288 with 1 Axes>"
      ]
     },
     "metadata": {
      "image/png": {
       "height": 254,
       "width": 396
      },
      "needs_background": "light"
     },
     "output_type": "display_data"
    }
   ],
   "source": []
  },
  {
   "cell_type": "code",
   "execution_count": null,
   "id": "773bcf42",
   "metadata": {},
   "outputs": [
    {
     "name": "stdout",
     "output_type": "stream",
     "text": [
      "['/Volumes/GoogleDrive/My Drive/SlimeMold/2021-11-23-VACv2/LRG_NGC_z=0-1000mpc', '/Volumes/GoogleDrive/My Drive/SlimeMold/2021-11-23-VACv2/LRG_NGC_z=1500-2100mpc', '/Volumes/GoogleDrive/My Drive/SlimeMold/2021-11-23-VACv2/LRG_NGC_z=2000-3000mpc', '/Volumes/GoogleDrive/My Drive/SlimeMold/2021-11-23-VACv2/LRG_NGC_z=900-1600mpc', '/Volumes/GoogleDrive/My Drive/SlimeMold/2021-11-23-VACv2/LRG_SGC_z=0-1000mpc', '/Volumes/GoogleDrive/My Drive/SlimeMold/2021-11-23-VACv2/LRG_SGC_z=1500-2100mpc', '/Volumes/GoogleDrive/My Drive/SlimeMold/2021-11-23-VACv2/LRG_SGC_z=2000-3000mpc', '/Volumes/GoogleDrive/My Drive/SlimeMold/2021-11-23-VACv2/LRG_SGC_z=900-1600mpc', '/Volumes/GoogleDrive/My Drive/SlimeMold/2021-11-23-VACv2/SDSS_z=44-476mpc']\n"
     ]
    }
   ],
   "source": [
    "datadir = \"/Volumes/GoogleDrive/My Drive/SlimeMold/2021-11-23-VACv2/\"\n",
    "slime_dirs = glob.glob(datadir + \"/*mpc\")\n",
    "slime_dirs = [s for s in slime_dirs if \".zip\" not in s]\n",
    "slime_dirs = [s for s in slime_dirs if \".csv\" not in s]\n",
    "slime_dirs.sort()\n",
    "print(slime_dirs)"
   ]
  },
  {
   "cell_type": "code",
   "execution_count": null,
   "id": "e98b9334",
   "metadata": {},
   "outputs": [
    {
     "name": "stdout",
     "output_type": "stream",
     "text": [
      "(616, 1024, 624) (0, 1, 2)\n",
      "(624, 1024, 616)\n"
     ]
    },
    {
     "name": "stderr",
     "output_type": "stream",
     "text": [
      "/Users/mwilde/python/pyslime/pyslime/slime.py:122: RuntimeWarning: divide by zero encountered in log10\n",
      "  slimeobj.data = np.log10(slimeobj.data)\n"
     ]
    }
   ],
   "source": [
    "lrgsmdat = slime.Slime.get_slime('/Volumes/GoogleDrive/My Drive/SlimeMold/2021-11-23-VACv2/LRG_NGC_z=0-1000mpc', standardize=False)"
   ]
  },
  {
   "cell_type": "code",
   "execution_count": null,
   "id": "d2fd2181",
   "metadata": {},
   "outputs": [
    {
     "name": "stdout",
     "output_type": "stream",
     "text": [
      "(616, 1024, 624) (0, 1, 2)\n",
      "(624, 1024, 616)\n"
     ]
    },
    {
     "name": "stderr",
     "output_type": "stream",
     "text": [
      "/Users/mwilde/python/pyslime/pyslime/utils.py:331: RuntimeWarning: divide by zero encountered in log10\n",
      "  slimeobj.data = np.log10(slimeobj.data)\n"
     ]
    }
   ],
   "source": [
    "w, v = ppu.get_hist('/Volumes/GoogleDrive/My Drive/SlimeMold/2021-11-23-VACv2/LRG_NGC_z=0-1000mpc')"
   ]
  },
  {
   "cell_type": "code",
   "execution_count": null,
   "id": "6650b9e4",
   "metadata": {},
   "outputs": [
    {
     "name": "stdout",
     "output_type": "stream",
     "text": [
      "(616, 1024, 624) (0, 1, 2)\n",
      "(624, 1024, 616)\n"
     ]
    },
    {
     "ename": "NameError",
     "evalue": "name 'np' is not defined",
     "output_type": "error",
     "traceback": [
      "\u001b[0;31m---------------------------------------------------------------------------\u001b[0m",
      "\u001b[0;31mNameError\u001b[0m                                 Traceback (most recent call last)",
      "\u001b[0;32m<ipython-input-1-cacfd3779a6a>\u001b[0m in \u001b[0;36m<module>\u001b[0;34m\u001b[0m\n\u001b[1;32m     10\u001b[0m \u001b[0;34m\u001b[0m\u001b[0m\n\u001b[1;32m     11\u001b[0m \u001b[0mlrgdens\u001b[0m \u001b[0;34m=\u001b[0m \u001b[0mlrgsmdat\u001b[0m\u001b[0;34m.\u001b[0m\u001b[0msky_to_data\u001b[0m\u001b[0;34m(\u001b[0m\u001b[0mlrg\u001b[0m\u001b[0;34m.\u001b[0m\u001b[0mRA\u001b[0m\u001b[0;34m.\u001b[0m\u001b[0mvalues\u001b[0m\u001b[0;34m,\u001b[0m \u001b[0mlrg\u001b[0m\u001b[0;34m.\u001b[0m\u001b[0mDEC\u001b[0m\u001b[0;34m.\u001b[0m\u001b[0mvalues\u001b[0m\u001b[0;34m,\u001b[0m \u001b[0mlrg\u001b[0m\u001b[0;34m.\u001b[0m\u001b[0mZ\u001b[0m\u001b[0;34m.\u001b[0m\u001b[0mvalues\u001b[0m\u001b[0;34m,\u001b[0m \u001b[0mcheck_bounds\u001b[0m\u001b[0;34m=\u001b[0m\u001b[0;32mTrue\u001b[0m\u001b[0;34m)\u001b[0m\u001b[0;34m\u001b[0m\u001b[0;34m\u001b[0m\u001b[0m\n\u001b[0;32m---> 12\u001b[0;31m \u001b[0mkwargs\u001b[0m \u001b[0;34m=\u001b[0m \u001b[0;34m{\u001b[0m\u001b[0;34m'histtype'\u001b[0m\u001b[0;34m:\u001b[0m\u001b[0;34m'step'\u001b[0m\u001b[0;34m,\u001b[0m \u001b[0;34m\"bins\"\u001b[0m\u001b[0;34m:\u001b[0m\u001b[0mnp\u001b[0m\u001b[0;34m.\u001b[0m\u001b[0mlinspace\u001b[0m\u001b[0;34m(\u001b[0m\u001b[0;34m-\u001b[0m\u001b[0;36m1000\u001b[0m\u001b[0;34m,\u001b[0m\u001b[0;36m4\u001b[0m\u001b[0;34m,\u001b[0m \u001b[0;36m500\u001b[0m\u001b[0;34m)\u001b[0m\u001b[0;34m,\u001b[0m \u001b[0;34m\"density\"\u001b[0m\u001b[0;34m:\u001b[0m\u001b[0;32mTrue\u001b[0m\u001b[0;34m}\u001b[0m\u001b[0;34m\u001b[0m\u001b[0;34m\u001b[0m\u001b[0m\n\u001b[0m\u001b[1;32m     13\u001b[0m \u001b[0mplt\u001b[0m\u001b[0;34m.\u001b[0m\u001b[0mhist\u001b[0m\u001b[0;34m(\u001b[0m\u001b[0msdssdens\u001b[0m\u001b[0;34m,\u001b[0m \u001b[0;34m**\u001b[0m\u001b[0mkwargs\u001b[0m\u001b[0;34m)\u001b[0m\u001b[0;34m;\u001b[0m\u001b[0;34m\u001b[0m\u001b[0;34m\u001b[0m\u001b[0m\n\u001b[1;32m     14\u001b[0m \u001b[0mplt\u001b[0m\u001b[0;34m.\u001b[0m\u001b[0mhist\u001b[0m\u001b[0;34m(\u001b[0m\u001b[0mlrgdens\u001b[0m\u001b[0;34m,\u001b[0m \u001b[0;34m**\u001b[0m\u001b[0mkwargs\u001b[0m\u001b[0;34m)\u001b[0m\u001b[0;34m;\u001b[0m\u001b[0;34m\u001b[0m\u001b[0;34m\u001b[0m\u001b[0m\n",
      "\u001b[0;31mNameError\u001b[0m: name 'np' is not defined"
     ]
    }
   ],
   "source": [
    "from pyslime import slime\n",
    "import pandas as pd\n",
    "datadir = '/Volumes/GoogleDrive/My Drive/SlimeMold/2021-11-23-VACv2/'\n",
    "lrgfolder = datadir + 'LRG_NGC_z=0-1000mpc'\n",
    "\n",
    "# load the pyslime object\n",
    "lrgsmdat = slime.Slime.from_dir(lrgfolder, axes='xyz')\n",
    "lrg = pd.read_csv(datadir + 'LRGs_LOWZ_SGC_forSlime.csv')\n",
    "lrg = lrg.loc[(lrg.lumDist > 0) & (lrg.lumDist < 900)]\n",
    "\n",
    "lrgdens = lrgsmdat.sky_to_data(lrg.RA.values, lrg.DEC.values, lrg.Z.values, check_bounds=True)\n",
    "kwargs = {'histtype':'step', \"bins\":np.linspace(-1000,4, 500), \"density\":True}\n",
    "plt.hist(sdssdens, **kwargs);\n",
    "plt.hist(lrgdens, **kwargs);\n",
    "# plt.hist(lrgsmdat.data.ravel(), **kwargs)\n",
    "# plt.plot(v, w)"
   ]
  },
  {
   "cell_type": "code",
   "execution_count": null,
   "id": "5d5f3e99",
   "metadata": {},
   "outputs": [
    {
     "data": {
      "text/plain": [
       "array([336.31660279,  30.10271205,  29.62689271, ...,  21.77713258,\n",
       "       359.15063702, 344.34631492])"
      ]
     },
     "execution_count": 154,
     "metadata": {},
     "output_type": "execute_result"
    }
   ],
   "source": []
  },
  {
   "cell_type": "code",
   "execution_count": null,
   "id": "ae227c6a",
   "metadata": {},
   "outputs": [
    {
     "data": {
      "image/png": "[encoded data removed]",
      "text/plain": [
       "<Figure size 432x288 with 1 Axes>"
      ]
     },
     "metadata": {
      "image/png": {
       "height": 258,
       "width": 407
      },
      "needs_background": "light"
     },
     "output_type": "display_data"
    }
   ],
   "source": [
    "plt.hist(lrgsdens[lrgsdens > -1000], bins=100);"
   ]
  },
  {
   "cell_type": "code",
   "execution_count": null,
   "id": "a046735e",
   "metadata": {},
   "outputs": [
    {
     "name": "stdout",
     "output_type": "stream",
     "text": [
      "(616, 1024, 624) (0, 1, 2)\n",
      "(624, 1024, 616)\n"
     ]
    }
   ],
   "source": [
    "lrgsmdat = slime.Slime.get_slime(lrgfolder, standardize=False, axes='xyz')\n",
    "cart = pu.transform_to_cartesian(lrg.RA.values, lrg.DEC.values, lrg.Z.values)\n",
    "idxs = lrgsmdat.cartesian_to_idx(cart[0], cart[1], cart[2])"
   ]
  },
  {
   "cell_type": "code",
   "execution_count": null,
   "id": "bd35fd61",
   "metadata": {},
   "outputs": [],
   "source": [
    "inbounds = (\n",
    "    (idxs[0] > 0)\n",
    "    & (idxs[1] > 0)\n",
    "    & (idxs[2] > 0)\n",
    "    & (idxs[0] < lrgsmdat.griddims[0])\n",
    "    & (idxs[1] < lrgsmdat.griddims[1])\n",
    "    & (idxs[2] < lrgsmdat.griddims[2])\n",
    ")"
   ]
  },
  {
   "cell_type": "code",
   "execution_count": null,
   "id": "6c4b7c45",
   "metadata": {},
   "outputs": [],
   "source": []
  },
  {
   "cell_type": "code",
   "execution_count": null,
   "id": "86f8cc3c",
   "metadata": {},
   "outputs": [
    {
     "name": "stdout",
     "output_type": "stream",
     "text": [
      "9.666189413725284 5637.143532828657\n",
      "582 3585\n",
      "582 3585 624\n",
      "-2200.4062269830006 2931.808301914868\n",
      "-649 2090\n",
      "-649 2090 1024\n",
      "-893.0407044067844 2583.794703452648\n",
      "-400 1455\n",
      "-400 1455 616\n"
     ]
    }
   ],
   "source": [
    "for i in range(0, 3):\n",
    "    print(cart[i].min(), cart[i].max())\n",
    "    print(idxs[i].min(), idxs[i].max())\n",
    "    print(idxs[i].min(), idxs[i].max(), lrgsmdat.griddims[i])"
   ]
  },
  {
   "cell_type": "code",
   "execution_count": null,
   "id": "18e1feeb",
   "metadata": {},
   "outputs": [],
   "source": []
  },
  {
   "cell_type": "code",
   "execution_count": null,
   "id": "c737ff91",
   "metadata": {},
   "outputs": [
    {
     "data": {
      "text/plain": [
       "(array([336.31660279,  30.10271205,  29.62689271, ...,  21.77713258,\n",
       "        359.15063702, 344.34631492]),\n",
       " array([ 0.61881198, 21.11588049, -5.11111055, ..., 25.85718597,\n",
       "        11.17444491, 30.38005093]),\n",
       " array([0.00238079, 0.01576783, 0.01628613, ..., 0.18005115, 0.1800538 ,\n",
       "        0.18005428]))"
      ]
     },
     "execution_count": 156,
     "metadata": {},
     "output_type": "execute_result"
    }
   ],
   "source": [
    "lrg.RA.values, lrg.DEC.values, lrg.Z.values"
   ]
  },
  {
   "cell_type": "code",
   "execution_count": null,
   "id": "f410bff2",
   "metadata": {},
   "outputs": [
    {
     "name": "stdout",
     "output_type": "stream",
     "text": [
      "(616, 1024, 624) (2, 1, 0)\n",
      "(616, 1024, 624)\n"
     ]
    },
    {
     "data": {
      "image/png": "[encoded data removed]",
      "text/plain": [
       "<Figure size 432x288 with 1 Axes>"
      ]
     },
     "metadata": {
      "image/png": {
       "height": 258,
       "width": 417
      },
      "needs_background": "light"
     },
     "output_type": "display_data"
    }
   ],
   "source": [
    "lrgsmdat = pu.get_slime(lrgfolder, standardize=False, axes='zyx')\n",
    "dat = lrgsmdat.data[::50].ravel()[~np.isinf(lrgsmdat.data[::50].ravel())]\n",
    "plt.hist(dat, bins=100);"
   ]
  },
  {
   "cell_type": "code",
   "execution_count": null,
   "id": "28004382",
   "metadata": {},
   "outputs": [
    {
     "data": {
      "text/plain": [
       "array([-642., -642., -642., ..., -642., -642., -642.])"
      ]
     },
     "execution_count": 119,
     "metadata": {},
     "output_type": "execute_result"
    }
   ],
   "source": [
    "lrgsdens[lrgsdens > -1000]"
   ]
  },
  {
   "cell_type": "code",
   "execution_count": null,
   "id": "1e2e76ca",
   "metadata": {},
   "outputs": [
    {
     "name": "stdout",
     "output_type": "stream",
     "text": [
      "(616, 1024, 624) (0, 1, 2)\n",
      "(624, 1024, 616)\n"
     ]
    },
    {
     "name": "stderr",
     "output_type": "stream",
     "text": [
      "/Users/mwilde/python/pyslime/pyslime/slime.py:122: RuntimeWarning: divide by zero encountered in log10\n",
      "  slimeobj.data = np.log10(slimeobj.data)\n"
     ]
    }
   ],
   "source": [
    "\n",
    "\n",
    "# lrgtab = lrgsmdat.sky_to_data(ra, dec, z)\n"
   ]
  },
  {
   "cell_type": "code",
   "execution_count": null,
   "id": "605c963b",
   "metadata": {},
   "outputs": [
    {
     "name": "stderr",
     "output_type": "stream",
     "text": [
      "/Users/mwilde/opt/anaconda3/lib/python3.8/site-packages/numpy/lib/histograms.py:905: RuntimeWarning: invalid value encountered in true_divide\n",
      "  return n/db/n.sum(), bin_edges\n"
     ]
    },
    {
     "data": {
      "text/plain": [
       "[<matplotlib.lines.Line2D at 0x7fb279900190>]"
      ]
     },
     "execution_count": 121,
     "metadata": {},
     "output_type": "execute_result"
    },
    {
     "data": {
      "image/png": "[encoded data removed]",
      "text/plain": [
       "<Figure size 432x288 with 1 Axes>"
      ]
     },
     "metadata": {
      "image/png": {
       "height": 254,
       "width": 381
      },
      "needs_background": "light"
     },
     "output_type": "display_data"
    }
   ],
   "source": [
    "kwargs = {'histtype':'step', \"bins\":np.linspace(-1,4, 500), \"density\":True}\n",
    "plt.hist(sdssdens, **kwargs);\n",
    "plt.hist(lrgsdens, **kwargs);\n",
    "# plt.hist(lrgsmdat.data.ravel(), **kwargs)\n",
    "plt.plot(v, w)\n"
   ]
  },
  {
   "cell_type": "code",
   "execution_count": null,
   "id": "ff0f2725",
   "metadata": {},
   "outputs": [],
   "source": []
  }
 ],
 "metadata": {
  "interpreter": {
   "hash": "0c50aadaae22ca3edcb7dcdb26ddd57a7809ef554295fcfc563e8b7fd04b9644"
  },
  "kernelspec": {
   "display_name": "Python 3.8.8 64-bit ('base': conda)",
   "name": "python3"
  },
  "language_info": {
   "codemirror_mode": {
    "name": "ipython",
    "version": 3
   },
   "file_extension": ".py",
   "mimetype": "text/x-python",
   "name": "python",
   "nbconvert_exporter": "python",
   "pygments_lexer": "ipython3",
   "version": "3.8.8"
  }
 },
 "nbformat": 4,
 "nbformat_minor": 5
}
