{
 "cells": [
  {
   "cell_type": "code",
   "execution_count": 32,
   "metadata": {},
   "outputs": [],
   "source": [
    "%matplotlib inline\n",
    "%config InlineBackend.figure_format = 'retina'\n",
    "import numpy as np\n",
    "from matplotlib import pyplot as plt\n",
    "from astropy.table import Table, vstack, unique, hstack, join\n",
    "import astropy.units as u\n",
    "from astropy.coordinates import SkyCoord\n",
    "import pandas as pd\n",
    "from pyslime.pipeline import interpolate, catalogs\n",
    "\n",
    "\n",
    "datadir = \"/Volumes/GoogleDrive/My Drive/SlimeMold/2021-11-23-VACv2/\"\n",
    "packagedir = \"/Users/mwilde/python/pyslime/pyslime/data/\"\n",
    "dropboxdir = \"/Users/mwilde/Dropbox/slime-mold/data/final_data/\"\n",
    "pipedatadir = \"/Users/mwilde/python/pyslime/pyslime/pipeline/data/\"\n"
   ]
  },
  {
   "cell_type": "markdown",
   "metadata": {},
   "source": []
  },
  {
   "cell_type": "code",
   "execution_count": 9,
   "metadata": {},
   "outputs": [],
   "source": [
    "firefly = Table.read('/Users/mwilde/Dropbox/slime-mold/sdss_eboss_firefly-dr14.fits')\n",
    "sdss = Table.read('/Users/mwilde/Dropbox/Research/data/SDSS/nasaSloan/nsa_v1_0_1.fits')\n",
    "# vac = Table.read(\"slimeMold_galaxy_catalog_v1_0_0.fits\")"
   ]
  },
  {
   "cell_type": "markdown",
   "metadata": {},
   "source": [
    "Make subtable of the survey files"
   ]
  },
  {
   "cell_type": "code",
   "execution_count": 35,
   "metadata": {},
   "outputs": [],
   "source": [
    "def make_subtable(survey, surveyname='firefly'):\n",
    "    firefly = survey\n",
    "    catid_list = []\n",
    "    for plate, mjd, fiberid in zip(firefly['PLATE'], firefly['MJD'], firefly['FIBERID']):\n",
    "        catid_list.append(str(plate)+str(mjd)+str(fiberid))\n",
    "\n",
    "    firefly['CATALOGID'] = catid_list\n",
    "\n",
    "    t = Table()\n",
    "    t['catalogID'] = firefly['CATALOGID']\n",
    "    # t['specobjID'] = firefly['SPECOBJID']\n",
    "    t['PLATE'] = firefly['PLATE']\n",
    "    t['MJD'] = firefly['MJD']\n",
    "    t['FIBERID'] = firefly['FIBERID']\n",
    "    t['RA'] = firefly['PLUG_RA']*u.deg\n",
    "    t['Dec'] = firefly['PLUG_DEC']*u.deg\n",
    "    #t['RA'] = firefly['RA']*u.deg\n",
    "    #t['Dec'] = firefly['DEC']*u.deg\n",
    "    t['z'] = firefly['Z']\n",
    "    # t['MSTARS'] = firefly['Chabrier_MILES_stellar_mass'] * u.solMass\n",
    "    # t['MSTARS_Err'] = firefly['Chabrier_MILES_stellar_mass_up']*u.solMass - firefly['Chabrier_MILES_stellar_mass_low']* u.solMass\n",
    "    t['mass_source'] = surveyname\n",
    "    # t['slimedens'] = np.zeros(len(firefly), dtype=np.float32)\n",
    "    # t['matterdens'] = np.zeros(len(firefly), dtype=np.float32)\n",
    "    return t\n",
    "\n",
    "def make_out_table(match, surveyname):\n",
    "\n",
    "    out = Table()\n",
    "    out['catalogID'] = match['catalogID']\n",
    "    out['PLATE'] = match['PLATE']\n",
    "    out['MJD'] = match['MJD']\n",
    "    out['FIBERID'] = match['FIBERID']\n",
    "    out['RA'] = match['ra']\n",
    "    out['DEC'] = match['dec']\n",
    "    out['Z'] = match['z_1']\n",
    "    out['MASS_SOURCE'] = surveyname\n",
    "    out['MCPM_RUN'] = match['MCPM_RUN']\n",
    "    out['MSTARS'] = match['mstars']\n",
    "    out['MATTERDENS'] = match['log10_overdens']\n",
    "    \n",
    "    return out"
   ]
  },
  {
   "cell_type": "code",
   "execution_count": 26,
   "metadata": {},
   "outputs": [],
   "source": [
    "ffly = make_subtable(firefly)\n",
    "nsa = make_subtable(sdss, surveyname='nsa')"
   ]
  },
  {
   "cell_type": "code",
   "execution_count": 27,
   "metadata": {},
   "outputs": [],
   "source": [
    "prevac = pd.read_csv(datadir + \"prevac_catalog.csv\")"
   ]
  },
  {
   "cell_type": "code",
   "execution_count": 28,
   "metadata": {},
   "outputs": [
    {
     "data": {
      "text/html": [
       "<i>Table length=641409</i>\n",
       "<table id=\"table140686511447872\" class=\"table-striped table-bordered table-condensed\">\n",
       "<thead><tr><th>catalogID</th><th>PLATE</th><th>MJD</th><th>FIBERID</th><th>RA</th><th>Dec</th><th>z</th><th>mass_source</th></tr></thead>\n",
       "<thead><tr><th></th><th></th><th></th><th></th><th>deg</th><th>deg</th><th></th><th></th></tr></thead>\n",
       "<thead><tr><th>str13</th><th>int32</th><th>int32</th><th>int16</th><th>float64</th><th>float64</th><th>float32</th><th>str3</th></tr></thead>\n",
       "<tr><td>266516301</td><td>266</td><td>51630</td><td>1</td><td>146.71421</td><td>-1.0413043</td><td>0.021222278</td><td>nsa</td></tr>\n",
       "<tr><td>266516304</td><td>266</td><td>51630</td><td>4</td><td>146.62857</td><td>-0.76513683</td><td>0.06465632</td><td>nsa</td></tr>\n",
       "<tr><td>266516306</td><td>266</td><td>51630</td><td>6</td><td>146.63167</td><td>-0.98827781</td><td>0.05265425</td><td>nsa</td></tr>\n",
       "<tr><td>2665163011</td><td>266</td><td>51630</td><td>11</td><td>146.9341</td><td>-0.67040397</td><td>0.121270485</td><td>nsa</td></tr>\n",
       "<tr><td>2665163012</td><td>266</td><td>51630</td><td>12</td><td>146.9639</td><td>-0.54500256</td><td>0.055980586</td><td>nsa</td></tr>\n",
       "<tr><td>2665163013</td><td>266</td><td>51630</td><td>13</td><td>146.9635</td><td>-0.75935173</td><td>0.09708638</td><td>nsa</td></tr>\n",
       "<tr><td>2665163016</td><td>266</td><td>51630</td><td>16</td><td>146.85983</td><td>-0.80890165</td><td>0.12658988</td><td>nsa</td></tr>\n",
       "<tr><td>2665163017</td><td>266</td><td>51630</td><td>17</td><td>146.59272</td><td>-0.76025604</td><td>0.064959235</td><td>nsa</td></tr>\n",
       "<tr><td>2665163019</td><td>266</td><td>51630</td><td>19</td><td>146.72794</td><td>-0.55687994</td><td>0.089311965</td><td>nsa</td></tr>\n",
       "<tr><td>...</td><td>...</td><td>...</td><td>...</td><td>...</td><td>...</td><td>...</td><td>...</td></tr>\n",
       "<tr><td>72652226401</td><td>726</td><td>52226</td><td>401</td><td>347.69689</td><td>-8.5453153</td><td>0.093160234</td><td>nsa</td></tr>\n",
       "<tr><td>000</td><td>0</td><td>0</td><td>0</td><td>0.0</td><td>0.0</td><td>0.0635</td><td>nsa</td></tr>\n",
       "<tr><td>000</td><td>0</td><td>0</td><td>0</td><td>0.0</td><td>0.0</td><td>0.0899</td><td>nsa</td></tr>\n",
       "<tr><td>000</td><td>0</td><td>0</td><td>0</td><td>0.0</td><td>0.0</td><td>0.1488</td><td>nsa</td></tr>\n",
       "<tr><td>000</td><td>0</td><td>0</td><td>0</td><td>0.0</td><td>0.0</td><td>0.0913</td><td>nsa</td></tr>\n",
       "<tr><td>000</td><td>0</td><td>0</td><td>0</td><td>0.0</td><td>0.0</td><td>0.0743</td><td>nsa</td></tr>\n",
       "<tr><td>000</td><td>0</td><td>0</td><td>0</td><td>0.0</td><td>0.0</td><td>0.0761</td><td>nsa</td></tr>\n",
       "<tr><td>000</td><td>0</td><td>0</td><td>0</td><td>0.0</td><td>0.0</td><td>0.0771</td><td>nsa</td></tr>\n",
       "<tr><td>000</td><td>0</td><td>0</td><td>0</td><td>0.0</td><td>0.0</td><td>0.0748</td><td>nsa</td></tr>\n",
       "<tr><td>000</td><td>0</td><td>0</td><td>0</td><td>0.0</td><td>0.0</td><td>0.0748</td><td>nsa</td></tr>\n",
       "</table>"
      ],
      "text/plain": [
       "<Table length=641409>\n",
       " catalogID  PLATE  MJD  FIBERID     RA        Dec          z      mass_source\n",
       "                                   deg        deg                            \n",
       "   str13    int32 int32  int16   float64    float64     float32       str3   \n",
       "----------- ----- ----- ------- --------- ----------- ----------- -----------\n",
       "  266516301   266 51630       1 146.71421  -1.0413043 0.021222278         nsa\n",
       "  266516304   266 51630       4 146.62857 -0.76513683  0.06465632         nsa\n",
       "  266516306   266 51630       6 146.63167 -0.98827781  0.05265425         nsa\n",
       " 2665163011   266 51630      11  146.9341 -0.67040397 0.121270485         nsa\n",
       " 2665163012   266 51630      12  146.9639 -0.54500256 0.055980586         nsa\n",
       " 2665163013   266 51630      13  146.9635 -0.75935173  0.09708638         nsa\n",
       " 2665163016   266 51630      16 146.85983 -0.80890165  0.12658988         nsa\n",
       " 2665163017   266 51630      17 146.59272 -0.76025604 0.064959235         nsa\n",
       " 2665163019   266 51630      19 146.72794 -0.55687994 0.089311965         nsa\n",
       "        ...   ...   ...     ...       ...         ...         ...         ...\n",
       "72652226401   726 52226     401 347.69689  -8.5453153 0.093160234         nsa\n",
       "        000     0     0       0       0.0         0.0      0.0635         nsa\n",
       "        000     0     0       0       0.0         0.0      0.0899         nsa\n",
       "        000     0     0       0       0.0         0.0      0.1488         nsa\n",
       "        000     0     0       0       0.0         0.0      0.0913         nsa\n",
       "        000     0     0       0       0.0         0.0      0.0743         nsa\n",
       "        000     0     0       0       0.0         0.0      0.0761         nsa\n",
       "        000     0     0       0       0.0         0.0      0.0771         nsa\n",
       "        000     0     0       0       0.0         0.0      0.0748         nsa\n",
       "        000     0     0       0       0.0         0.0      0.0748         nsa"
      ]
     },
     "execution_count": 28,
     "metadata": {},
     "output_type": "execute_result"
    }
   ],
   "source": [
    "nsa"
   ]
  },
  {
   "cell_type": "code",
   "execution_count": 16,
   "metadata": {},
   "outputs": [
    {
     "data": {
      "text/plain": [
       "{0}"
      ]
     },
     "execution_count": 16,
     "metadata": {},
     "output_type": "execute_result"
    }
   ],
   "source": [
    "prevac_sdss = prevac.loc[prevac.MCPM_RUN == 0]\n",
    "set(prevac_sdss.MCPM_RUN)"
   ]
  },
  {
   "cell_type": "code",
   "execution_count": 17,
   "metadata": {},
   "outputs": [
    {
     "data": {
      "text/plain": [
       "{1, 2, 3, 4, 5, 6, 7, 8}"
      ]
     },
     "execution_count": 17,
     "metadata": {},
     "output_type": "execute_result"
    }
   ],
   "source": [
    "prevac_lrg = prevac.loc[prevac.MCPM_RUN != 0]\n",
    "set(prevac_lrg.MCPM_RUN)"
   ]
  },
  {
   "cell_type": "code",
   "execution_count": 34,
   "metadata": {},
   "outputs": [],
   "source": [
    "sdss_nsa_match = catalogs.xmatch(prevac_sdss, nsa, 'ra', 'dec', 'RA', 'Dec', max_sep=3*u.arcsec)\n",
    "lrg_firefly_match = catalogs.xmatch(prevac_lrg, ffly, 'ra', 'dec', 'RA', 'Dec', max_sep=3*u.arcsec)"
   ]
  },
  {
   "cell_type": "code",
   "execution_count": 36,
   "metadata": {},
   "outputs": [],
   "source": [
    "sdss_out = make_out_table(sdss_nsa_match, 'nsa')\n",
    "lrg_out = make_out_table(lrg_firefly_match, 'firefly')"
   ]
  },
  {
   "cell_type": "code",
   "execution_count": 37,
   "metadata": {},
   "outputs": [],
   "source": [
    "vac = vstack([sdss_out, lrg_out])"
   ]
  },
  {
   "cell_type": "code",
   "execution_count": 38,
   "metadata": {},
   "outputs": [
    {
     "data": {
      "text/html": [
       "<i>Table length=638824</i>\n",
       "<table id=\"table140685702821536\" class=\"table-striped table-bordered table-condensed\">\n",
       "<thead><tr><th>catalogID</th><th>PLATE</th><th>MJD</th><th>FIBERID</th><th>RA</th><th>DEC</th><th>Z</th><th>MASS_SOURCE</th><th>MCPM_RUN</th><th>MSTARS</th><th>MATTERDENS</th></tr></thead>\n",
       "<thead><tr><th>str13</th><th>int32</th><th>int32</th><th>int32</th><th>float64</th><th>float64</th><th>float64</th><th>str7</th><th>int64</th><th>float64</th><th>float64</th></tr></thead>\n",
       "<tr><td>26651630147</td><td>266</td><td>51630</td><td>147</td><td>146.29986258871986</td><td>-0.1200040329025857</td><td>0.0307035073637962</td><td>nsa</td><td>0</td><td>10.425012588500977</td><td>1.4974101982551054</td></tr>\n",
       "<tr><td>266516301</td><td>266</td><td>51630</td><td>1</td><td>146.714215072841</td><td>-1.041280023331374</td><td>0.0212222784757614</td><td>nsa</td><td>0</td><td>10.172930717468262</td><td>1.7854924651609645</td></tr>\n",
       "<tr><td>2665163012</td><td>266</td><td>51630</td><td>12</td><td>146.9634997327016</td><td>-0.5447758299302171</td><td>0.0559805855154991</td><td>nsa</td><td>0</td><td>10.0126314163208</td><td>0.8528137300060619</td></tr>\n",
       "<tr><td>2665163069</td><td>266</td><td>51630</td><td>69</td><td>146.8915925363065</td><td>-0.5126719548057409</td><td>0.0838929116725921</td><td>nsa</td><td>0</td><td>10.379660606384276</td><td>0.7225824347940721</td></tr>\n",
       "<tr><td>2665163083</td><td>266</td><td>51630</td><td>83</td><td>146.0937040634269</td><td>-0.793110365699979</td><td>0.0675851702690124</td><td>nsa</td><td>0</td><td>10.851116180419922</td><td>0.986762363711348</td></tr>\n",
       "<tr><td>26651630373</td><td>266</td><td>51630</td><td>373</td><td>145.79337611029078</td><td>1.185684949627377</td><td>0.0625668168067932</td><td>nsa</td><td>0</td><td>10.55429744720459</td><td>0.4950216427713998</td></tr>\n",
       "<tr><td>2665163078</td><td>266</td><td>51630</td><td>78</td><td>146.7560335057309</td><td>-0.1682299117202801</td><td>0.0624499060213565</td><td>nsa</td><td>0</td><td>9.977581024169922</td><td>1.0925519480913797</td></tr>\n",
       "<tr><td>26651630412</td><td>266</td><td>51630</td><td>412</td><td>145.96965802752655</td><td>0.8309221318276753</td><td>0.0363569483160972</td><td>nsa</td><td>0</td><td>10.113277435302734</td><td>1.6081439874267558</td></tr>\n",
       "<tr><td>26651630221</td><td>266</td><td>51630</td><td>221</td><td>145.7447381357765</td><td>-0.0763446750654876</td><td>0.0625913590192794</td><td>nsa</td><td>0</td><td>10.186309814453123</td><td>1.1111012220152576</td></tr>\n",
       "<tr><td>2665163022</td><td>266</td><td>51630</td><td>22</td><td>147.18677363814004</td><td>-0.4938139466493589</td><td>0.0903170704841613</td><td>nsa</td><td>0</td><td>10.85373878479004</td><td>1.0716108976932734</td></tr>\n",
       "<tr><td>...</td><td>...</td><td>...</td><td>...</td><td>...</td><td>...</td><td>...</td><td>...</td><td>...</td><td>...</td><td>...</td></tr>\n",
       "<tr><td>687356541162</td><td>6873</td><td>56541</td><td>162</td><td>10.879435574760578</td><td>32.590644309264896</td><td>0.5106651782989502</td><td>firefly</td><td>8</td><td>76926160208.98195</td><td>0.020593943664934</td></tr>\n",
       "<tr><td>504856218510</td><td>5048</td><td>56218</td><td>510</td><td>335.33582627627777</td><td>11.704107700449834</td><td>0.5107876062393188</td><td>firefly</td><td>8</td><td>67436870250.99643</td><td>0.0403288418464465</td></tr>\n",
       "<tr><td>617456243438</td><td>6174</td><td>56243</td><td>438</td><td>2.4894009574684333</td><td>19.38379925633852</td><td>0.5107960104942322</td><td>firefly</td><td>8</td><td>160071316253.28488</td><td>-0.0301022186208989</td></tr>\n",
       "<tr><td>652956535995</td><td>6529</td><td>56535</td><td>995</td><td>12.398957386720213</td><td>32.01254625358507</td><td>0.510891318321228</td><td>firefly</td><td>8</td><td>136151122244.97015</td><td>0.0203697203635828</td></tr>\n",
       "<tr><td>613656206914</td><td>6136</td><td>56206</td><td>914</td><td>351.7248759505617</td><td>17.496560756696415</td><td>0.5109045505523682</td><td>firefly</td><td>8</td><td>1421965816.386194</td><td>-0.0070176609195816</td></tr>\n",
       "<tr><td>502255827210</td><td>5022</td><td>55827</td><td>210</td><td>329.09430991468145</td><td>18.94058370301882</td><td>0.5109630823135376</td><td>firefly</td><td>8</td><td>144402180766.66763</td><td>0.0629095124206937</td></tr>\n",
       "<tr><td>506956211537</td><td>5069</td><td>56211</td><td>537</td><td>333.70881582705226</td><td>7.882330565867508</td><td>0.5111153721809387</td><td>firefly</td><td>8</td><td>85307260569.6773</td><td>0.0206760204460165</td></tr>\n",
       "<tr><td>627356243281</td><td>6273</td><td>56243</td><td>281</td><td>32.04016799491416</td><td>28.486787006692055</td><td>0.5113077759742737</td><td>firefly</td><td>8</td><td>212302376437.2618</td><td>-0.0223667837731963</td></tr>\n",
       "<tr><td>704056574132</td><td>7040</td><td>56574</td><td>132</td><td>10.632849788329564</td><td>-5.732940474905763</td><td>0.511320948600769</td><td>firefly</td><td>8</td><td>8908836096.766857</td><td>-0.5174383577144951</td></tr>\n",
       "<tr><td>628256572416</td><td>6282</td><td>56572</td><td>416</td><td>7.8472241226489245</td><td>26.53216218717852</td><td>0.5114391446113586</td><td>firefly</td><td>8</td><td>21010350592.81604</td><td>-0.017002830987027</td></tr>\n",
       "</table>"
      ],
      "text/plain": [
       "<Table length=638824>\n",
       " catalogID   PLATE  MJD  ... MCPM_RUN       MSTARS            MATTERDENS    \n",
       "   str13     int32 int32 ...  int64        float64             float64      \n",
       "------------ ----- ----- ... -------- ------------------ -------------------\n",
       " 26651630147   266 51630 ...        0 10.425012588500977  1.4974101982551054\n",
       "   266516301   266 51630 ...        0 10.172930717468262  1.7854924651609645\n",
       "  2665163012   266 51630 ...        0   10.0126314163208  0.8528137300060619\n",
       "  2665163069   266 51630 ...        0 10.379660606384276  0.7225824347940721\n",
       "  2665163083   266 51630 ...        0 10.851116180419922   0.986762363711348\n",
       " 26651630373   266 51630 ...        0  10.55429744720459  0.4950216427713998\n",
       "  2665163078   266 51630 ...        0  9.977581024169922  1.0925519480913797\n",
       " 26651630412   266 51630 ...        0 10.113277435302734  1.6081439874267558\n",
       " 26651630221   266 51630 ...        0 10.186309814453123  1.1111012220152576\n",
       "  2665163022   266 51630 ...        0  10.85373878479004  1.0716108976932734\n",
       "         ...   ...   ... ...      ...                ...                 ...\n",
       "687356541162  6873 56541 ...        8  76926160208.98195   0.020593943664934\n",
       "504856218510  5048 56218 ...        8  67436870250.99643  0.0403288418464465\n",
       "617456243438  6174 56243 ...        8 160071316253.28488 -0.0301022186208989\n",
       "652956535995  6529 56535 ...        8 136151122244.97015  0.0203697203635828\n",
       "613656206914  6136 56206 ...        8  1421965816.386194 -0.0070176609195816\n",
       "502255827210  5022 55827 ...        8 144402180766.66763  0.0629095124206937\n",
       "506956211537  5069 56211 ...        8   85307260569.6773  0.0206760204460165\n",
       "627356243281  6273 56243 ...        8  212302376437.2618 -0.0223667837731963\n",
       "704056574132  7040 56574 ...        8  8908836096.766857 -0.5174383577144951\n",
       "628256572416  6282 56572 ...        8  21010350592.81604  -0.017002830987027"
      ]
     },
     "execution_count": 38,
     "metadata": {},
     "output_type": "execute_result"
    }
   ],
   "source": [
    "vac"
   ]
  },
  {
   "cell_type": "code",
   "execution_count": 39,
   "metadata": {},
   "outputs": [],
   "source": [
    "vac['catalogID'] = vac['catalogID'].astype(np.int64)\n",
    "vac['Z'] = vac['Z'].astype(np.float32)\n",
    "vac['MSTARS'] = vac['MSTARS'].astype(np.float32)\n",
    "vac['MATTERDENS'] = vac['MATTERDENS'].astype(np.float32)\n",
    "vac['MCPM_RUN'] = vac['MCPM_RUN'].astype(np.int16)"
   ]
  },
  {
   "cell_type": "markdown",
   "metadata": {},
   "source": [
    "# duplicates in data \n",
    "    CATALOGID MCPM_RUN n\n",
    "    177153498340 3 2\n",
    "    641156331589 7 2\n",
    "    213353917535 0 2\n",
    "    577756280586 3 2\n",
    "    640456330845 7 2\n",
    "    180653559566 3 2\n",
    "    105252466330 3 2\n",
    "    501555707562 7 2\n",
    "    614856209138 6 2\n",
    "    529055862902 5 2\n",
    "    104052722133 3 2\n",
    "    645156358918 7 2\n",
    "    577756280586 5 2\n",
    "    462155649774 0 2\n",
    "    511155840994 4 2\n",
    "    208653401599 5 2\n",
    "    105252466487 7 2\n",
    "    19585338552 7 2\n",
    "    673356369176 3 2\n",
    "    640956306506 5 2\n",
    "    193553387630 3 2\n",
    "    119052670393 0 2\n",
    "\n",
    "This has been fixed. See `fixVACdups-Matt-Version.ipynb` from the dropbox folder. Basically had to check against sdss explorer"
   ]
  },
  {
   "cell_type": "code",
   "execution_count": 42,
   "metadata": {},
   "outputs": [
    {
     "data": {
      "text/plain": [
       "'/Users/mwilde/Dropbox/slime-mold/data/final_data/'"
      ]
     },
     "execution_count": 42,
     "metadata": {},
     "output_type": "execute_result"
    }
   ],
   "source": [
    "dropboxdir"
   ]
  },
  {
   "cell_type": "code",
   "execution_count": 43,
   "metadata": {},
   "outputs": [],
   "source": [
    "bigtab = Table.read(pipedatadir+\"mattPlusJoeVACfixes_2021aug13.fits\")"
   ]
  },
  {
   "cell_type": "markdown",
   "metadata": {},
   "source": [
    "# Need to change the plate mjd fiberid to be the correct ones. Using the other notebook we have made a table with the corrected ID, MJD, FIBER and PLATE. Going to delete the old rows from the table and then add the new table to the existing vac table"
   ]
  },
  {
   "cell_type": "code",
   "execution_count": 44,
   "metadata": {},
   "outputs": [
    {
     "data": {
      "text/html": [
       "<i>Table length=41</i>\n",
       "<table id=\"table140685702821104\" class=\"table-striped table-bordered table-condensed\">\n",
       "<thead><tr><th>catalogID</th><th>PLATE</th><th>MJD</th><th>FIBERID</th><th>RA</th><th>DEC</th><th>Z</th><th>MASS_SOURCE</th><th>MCPM_RUN</th><th>MSTARS</th><th>MATTERDENS</th><th>newPLATE</th><th>newMJD</th><th>newFIBERID</th><th>newCatalogID</th></tr></thead>\n",
       "<thead><tr><th>int64</th><th>int32</th><th>int32</th><th>int32</th><th>float64</th><th>float64</th><th>float32</th><th>bytes7</th><th>int16</th><th>float32</th><th>float32</th><th>int32</th><th>int32</th><th>int32</th><th>bytes12</th></tr></thead>\n",
       "<tr><td>177153498340</td><td>1771</td><td>53498</td><td>340</td><td>193.98322052475862</td><td>15.611756438108605</td><td>0.23107594</td><td>firefly</td><td>3</td><td>370240230000.0</td><td>1.093062</td><td>1771</td><td>53498</td><td>340</td><td>177153498340</td></tr>\n",
       "<tr><td>177153498340</td><td>1771</td><td>53498</td><td>340</td><td>193.98311488759748</td><td>15.61101724996214</td><td>0.23136464</td><td>firefly</td><td>3</td><td>20690964000.0</td><td>1.0815413</td><td>5416</td><td>56002</td><td>664</td><td>541656002664</td></tr>\n",
       "<tr><td>641156331589</td><td>6411</td><td>56331</td><td>589</td><td>177.2034148263425</td><td>27.40079044754272</td><td>0.40935633</td><td>firefly</td><td>7</td><td>258165340000.0</td><td>1.3436651</td><td>6411</td><td>56331</td><td>589</td><td>641156331589</td></tr>\n",
       "<tr><td>641156331589</td><td>6411</td><td>56331</td><td>589</td><td>177.2032561239011</td><td>27.400088961102654</td><td>0.41000712</td><td>firefly</td><td>7</td><td>153704000000.0</td><td>1.2402749</td><td>6406</td><td>56330</td><td>86</td><td>64065633086</td></tr>\n",
       "<tr><td>213353917535</td><td>2133</td><td>53917</td><td>535</td><td>217.8585645324488</td><td>30.947611697612587</td><td>0.012526643</td><td>nsa</td><td>0</td><td>173135140.0</td><td>0.7463092</td><td>2133</td><td>53917</td><td>535</td><td>213353917535</td></tr>\n",
       "<tr><td>577756280586</td><td>5777</td><td>56280</td><td>586</td><td>138.48911802501522</td><td>26.69391613360936</td><td>0.2963859</td><td>firefly</td><td>3</td><td>39468937000.0</td><td>1.0299807</td><td>5779</td><td>56338</td><td>128</td><td>577956338128</td></tr>\n",
       "<tr><td>577756280586</td><td>5777</td><td>56280</td><td>586</td><td>138.488464250603</td><td>26.693805780321483</td><td>0.29648113</td><td>firefly</td><td>3</td><td>127700980000.0</td><td>1.0299807</td><td>5777</td><td>56280</td><td>586</td><td>577756280586</td></tr>\n",
       "<tr><td>640456330845</td><td>6404</td><td>56330</td><td>845</td><td>179.4086811383486</td><td>24.53147626009242</td><td>0.42155218</td><td>firefly</td><td>7</td><td>135652460000.0</td><td>1.2439997</td><td>6404</td><td>56330</td><td>845</td><td>640456330845</td></tr>\n",
       "<tr><td>640456330845</td><td>6404</td><td>56330</td><td>845</td><td>179.40942624345854</td><td>24.53114030120635</td><td>0.42717534</td><td>firefly</td><td>7</td><td>533522840000.0</td><td>1.2346877</td><td>2514</td><td>53882</td><td>30</td><td>25145388230</td></tr>\n",
       "<tr><td>180653559566</td><td>1806</td><td>53559</td><td>566</td><td>208.98285279116797</td><td>10.123950678789187</td><td>0.21755105</td><td>firefly</td><td>3</td><td>352577220000.0</td><td>1.0884538</td><td>1806</td><td>53559</td><td>566</td><td>180653559566</td></tr>\n",
       "<tr><td>...</td><td>...</td><td>...</td><td>...</td><td>...</td><td>...</td><td>...</td><td>...</td><td>...</td><td>...</td><td>...</td><td>...</td><td>...</td><td>...</td><td>...</td></tr>\n",
       "<tr><td>105252466487</td><td>1052</td><td>52466</td><td>487</td><td>233.55678472672616</td><td>43.59233467870493</td><td>0.386848</td><td>firefly</td><td>7</td><td>49409397000.0</td><td>1.1974394</td><td>6049</td><td>56091</td><td>962</td><td>604956091962</td></tr>\n",
       "<tr><td>19585338552</td><td>1958</td><td>53385</td><td>52</td><td>157.9571761745033</td><td>33.72811849090371</td><td>0.44133466</td><td>firefly</td><td>7</td><td>798675400000.0</td><td>1.3636378</td><td>1958</td><td>53385</td><td>52</td><td>19585338552</td></tr>\n",
       "<tr><td>19585338552</td><td>1958</td><td>53385</td><td>52</td><td>157.9575598346852</td><td>33.72753050890688</td><td>0.44405916</td><td>firefly</td><td>7</td><td>408884450000.0</td><td>1.1806778</td><td>6447</td><td>56362</td><td>520</td><td>644756362520</td></tr>\n",
       "<tr><td>673356369176</td><td>6733</td><td>56369</td><td>176</td><td>226.40858948353042</td><td>47.104857126934256</td><td>0.26645926</td><td>firefly</td><td>3</td><td>477014800000.0</td><td>1.0942142</td><td>1049</td><td>52751</td><td>61</td><td>10495275161</td></tr>\n",
       "<tr><td>673356369176</td><td>6733</td><td>56369</td><td>176</td><td>226.40748372357973</td><td>47.1051510761206</td><td>0.2676444</td><td>firefly</td><td>3</td><td>40039250000.0</td><td>1.0031799</td><td>6733</td><td>56369</td><td>176</td><td>673356369176</td></tr>\n",
       "<tr><td>640956306506</td><td>6409</td><td>56306</td><td>506</td><td>170.8489685518361</td><td>27.294030746746262</td><td>0.32946363</td><td>firefly</td><td>5</td><td>126382370000.0</td><td>0.9987131</td><td>6409</td><td>56306</td><td>506</td><td>640956306506</td></tr>\n",
       "<tr><td>640956306506</td><td>6409</td><td>56306</td><td>506</td><td>170.84939135964612</td><td>27.294647615573016</td><td>0.3330254</td><td>firefly</td><td>5</td><td>24366653000.0</td><td>0.94303334</td><td>6408</td><td>56329</td><td>80</td><td>64085632980</td></tr>\n",
       "<tr><td>193553387630</td><td>1935</td><td>53387</td><td>630</td><td>138.23219539776258</td><td>27.359321953559576</td><td>0.2278246</td><td>firefly</td><td>3</td><td>16688087000.0</td><td>1.1407117</td><td>5779</td><td>56338</td><td>188</td><td>577956338188</td></tr>\n",
       "<tr><td>193553387630</td><td>1935</td><td>53387</td><td>630</td><td>138.23216569187167</td><td>27.358589880887777</td><td>0.22791666</td><td>firefly</td><td>3</td><td>370198770000.0</td><td>1.1407117</td><td>1935</td><td>53387</td><td>630</td><td>193553387630</td></tr>\n",
       "<tr><td>119052670393</td><td>1190</td><td>52670</td><td>393</td><td>132.79675257899294</td><td>5.097132225621608</td><td>0.033398446</td><td>nsa</td><td>0</td><td>974455230.0</td><td>nan</td><td>1190</td><td>52670</td><td>393</td><td>119052670393</td></tr>\n",
       "</table>"
      ],
      "text/plain": [
       "<Table length=41>\n",
       " catalogID   PLATE  MJD  FIBERID ... newPLATE newMJD newFIBERID newCatalogID\n",
       "   int64     int32 int32  int32  ...  int32   int32    int32      bytes12   \n",
       "------------ ----- ----- ------- ... -------- ------ ---------- ------------\n",
       "177153498340  1771 53498     340 ...     1771  53498        340 177153498340\n",
       "177153498340  1771 53498     340 ...     5416  56002        664 541656002664\n",
       "641156331589  6411 56331     589 ...     6411  56331        589 641156331589\n",
       "641156331589  6411 56331     589 ...     6406  56330         86  64065633086\n",
       "213353917535  2133 53917     535 ...     2133  53917        535 213353917535\n",
       "577756280586  5777 56280     586 ...     5779  56338        128 577956338128\n",
       "577756280586  5777 56280     586 ...     5777  56280        586 577756280586\n",
       "640456330845  6404 56330     845 ...     6404  56330        845 640456330845\n",
       "640456330845  6404 56330     845 ...     2514  53882         30  25145388230\n",
       "180653559566  1806 53559     566 ...     1806  53559        566 180653559566\n",
       "         ...   ...   ...     ... ...      ...    ...        ...          ...\n",
       "105252466487  1052 52466     487 ...     6049  56091        962 604956091962\n",
       " 19585338552  1958 53385      52 ...     1958  53385         52  19585338552\n",
       " 19585338552  1958 53385      52 ...     6447  56362        520 644756362520\n",
       "673356369176  6733 56369     176 ...     1049  52751         61  10495275161\n",
       "673356369176  6733 56369     176 ...     6733  56369        176 673356369176\n",
       "640956306506  6409 56306     506 ...     6409  56306        506 640956306506\n",
       "640956306506  6409 56306     506 ...     6408  56329         80  64085632980\n",
       "193553387630  1935 53387     630 ...     5779  56338        188 577956338188\n",
       "193553387630  1935 53387     630 ...     1935  53387        630 193553387630\n",
       "119052670393  1190 52670     393 ...     1190  52670        393 119052670393"
      ]
     },
     "execution_count": 44,
     "metadata": {},
     "output_type": "execute_result"
    }
   ],
   "source": [
    "bigtab"
   ]
  },
  {
   "cell_type": "code",
   "execution_count": 45,
   "metadata": {},
   "outputs": [],
   "source": [
    "bad_catid = list(bigtab['catalogID'])\n",
    "\n",
    "bad_rows = []\n",
    "bad_rows_idx = []\n",
    "for idx, row in enumerate(vac):\n",
    "    # print(row['catalogID'])\n",
    "    if row['catalogID'] in bad_catid:\n",
    "        # print(int(row['catalogID']))\n",
    "        \n",
    "        bad_rows.append(int(row['catalogID']))\n",
    "        bad_rows_idx.append(idx)"
   ]
  },
  {
   "cell_type": "code",
   "execution_count": 46,
   "metadata": {},
   "outputs": [],
   "source": [
    "vac_copy = vac.copy()"
   ]
  },
  {
   "cell_type": "code",
   "execution_count": 47,
   "metadata": {},
   "outputs": [],
   "source": [
    "vac_copy.remove_rows(bad_rows_idx)"
   ]
  },
  {
   "cell_type": "code",
   "execution_count": 48,
   "metadata": {},
   "outputs": [],
   "source": [
    "bigtab['catalogID'] = bigtab['newCatalogID'].astype(np.int64)\n",
    "bigtab['PLATE'] = bigtab['newPLATE'].astype(np.int32)\n",
    "bigtab['MJD'] = bigtab['newMJD'].astype(np.int32)\n",
    "bigtab['FIBERID'] = bigtab['newFIBERID'].astype(np.int32)\n",
    "bigtab.remove_columns(['newCatalogID', 'newPLATE', 'newMJD', 'newFIBERID'])"
   ]
  },
  {
   "cell_type": "code",
   "execution_count": 61,
   "metadata": {},
   "outputs": [
    {
     "data": {
      "text/html": [
       "<i>Table length=638820</i>\n",
       "<table id=\"table140685697011520\" class=\"table-striped table-bordered table-condensed\">\n",
       "<thead><tr><th>catalogID</th><th>PLATE</th><th>MJD</th><th>FIBERID</th><th>RA</th><th>DEC</th><th>Z</th><th>MASS_SOURCE</th><th>MCPM_RUN</th><th>MSTARS</th><th>MATTERDENS</th></tr></thead>\n",
       "<thead><tr><th>int64</th><th>int32</th><th>int32</th><th>int32</th><th>float64</th><th>float64</th><th>float32</th><th>str7</th><th>int16</th><th>float32</th><th>float32</th></tr></thead>\n",
       "<tr><td>266516301</td><td>266</td><td>51630</td><td>1</td><td>146.714215072841</td><td>-1.041280023331374</td><td>0.021222278</td><td>nsa</td><td>0</td><td>10.172931</td><td>1.7854924</td></tr>\n",
       "<tr><td>266516304</td><td>266</td><td>51630</td><td>4</td><td>146.6285851269414</td><td>-0.7651620976591762</td><td>0.06465632</td><td>nsa</td><td>0</td><td>10.422385</td><td>1.0360718</td></tr>\n",
       "<tr><td>266516306</td><td>266</td><td>51630</td><td>6</td><td>146.63170644325592</td><td>-0.9883467023053</td><td>0.05265425</td><td>nsa</td><td>0</td><td>9.590905</td><td>0.20140773</td></tr>\n",
       "<tr><td>267516081</td><td>267</td><td>51608</td><td>1</td><td>148.5986570382982</td><td>-0.732304702032923</td><td>0.046558477</td><td>nsa</td><td>0</td><td>9.789456</td><td>0.117286995</td></tr>\n",
       "<tr><td>267516083</td><td>267</td><td>51608</td><td>3</td><td>148.66692099287746</td><td>-0.8990926923412219</td><td>0.09342866</td><td>nsa</td><td>0</td><td>10.972907</td><td>1.0998263</td></tr>\n",
       "<tr><td>267516084</td><td>267</td><td>51608</td><td>4</td><td>148.57361751585952</td><td>-0.8990203656104311</td><td>0.08971591</td><td>nsa</td><td>0</td><td>10.363775</td><td>0.59949815</td></tr>\n",
       "<tr><td>267516088</td><td>267</td><td>51608</td><td>8</td><td>148.73292302938592</td><td>-0.7611534482007497</td><td>0.086271614</td><td>nsa</td><td>0</td><td>10.973039</td><td>0.956878</td></tr>\n",
       "<tr><td>268516331</td><td>268</td><td>51633</td><td>1</td><td>150.06979451633774</td><td>-0.974504601265458</td><td>0.068742365</td><td>nsa</td><td>0</td><td>9.341592</td><td>0.39141583</td></tr>\n",
       "<tr><td>268516336</td><td>268</td><td>51633</td><td>6</td><td>149.99904738462055</td><td>-0.8691536729580291</td><td>0.07604031</td><td>nsa</td><td>0</td><td>11.139628</td><td>1.0693128</td></tr>\n",
       "<tr><td>268516339</td><td>268</td><td>51633</td><td>9</td><td>150.01693723518713</td><td>-0.5880843126348374</td><td>0.046007726</td><td>nsa</td><td>0</td><td>10.151027</td><td>1.1590105</td></tr>\n",
       "<tr><td>...</td><td>...</td><td>...</td><td>...</td><td>...</td><td>...</td><td>...</td><td>...</td><td>...</td><td>...</td><td>...</td></tr>\n",
       "<tr><td>7144565641000</td><td>7144</td><td>56564</td><td>1000</td><td>1.6188422130418303</td><td>33.466309421185976</td><td>0.37088007</td><td>firefly</td><td>6</td><td>161838350000.0</td><td>0.49192208</td></tr>\n",
       "<tr><td>7144565641000</td><td>7144</td><td>56564</td><td>1000</td><td>1.6188422130418303</td><td>33.466309421185976</td><td>0.37088007</td><td>firefly</td><td>8</td><td>161838350000.0</td><td>0.46939525</td></tr>\n",
       "<tr><td>7145565671000</td><td>7145</td><td>56567</td><td>1000</td><td>1.5590100844111705</td><td>35.432259566737386</td><td>0.27336338</td><td>firefly</td><td>4</td><td>75204340000.0</td><td>2.0468707</td></tr>\n",
       "<tr><td>7147565741000</td><td>7147</td><td>56574</td><td>1000</td><td>1.1676919225429003</td><td>-6.970976159662424</td><td>0.23624444</td><td>firefly</td><td>4</td><td>21159447000.0</td><td>1.1054106</td></tr>\n",
       "<tr><td>7159566031000</td><td>7159</td><td>56603</td><td>1000</td><td>20.947320868429088</td><td>-6.938003563040006</td><td>0.34599474</td><td>firefly</td><td>6</td><td>68349194000.0</td><td>0.65156615</td></tr>\n",
       "<tr><td>7162566051000</td><td>7162</td><td>56605</td><td>1000</td><td>25.7908728624801</td><td>-6.935659578789147</td><td>0.063492134</td><td>firefly</td><td>2</td><td>4584142300.0</td><td>1.8643422</td></tr>\n",
       "<tr><td>7164565971000</td><td>7164</td><td>56597</td><td>1000</td><td>28.84627042890901</td><td>-7.066404247990288</td><td>0.33649608</td><td>firefly</td><td>6</td><td>159092020000.0</td><td>0.50926393</td></tr>\n",
       "<tr><td>7167566041000</td><td>7167</td><td>56604</td><td>1000</td><td>1.2304295720806806</td><td>-9.630611070778354</td><td>0.4036475</td><td>firefly</td><td>8</td><td>124228460000.0</td><td>0.40400133</td></tr>\n",
       "<tr><td>7183566581000</td><td>7183</td><td>56658</td><td>1000</td><td>28.2082735280503</td><td>-9.13292570432276</td><td>0.3663221</td><td>firefly</td><td>6</td><td>155511880000.0</td><td>0.37771645</td></tr>\n",
       "<tr><td>7183566581000</td><td>7183</td><td>56658</td><td>1000</td><td>28.2082735280503</td><td>-9.13292570432276</td><td>0.3663221</td><td>firefly</td><td>8</td><td>155511880000.0</td><td>0.287163</td></tr>\n",
       "</table>"
      ],
      "text/plain": [
       "<Table length=638820>\n",
       "  catalogID   PLATE  MJD  FIBERID ... MCPM_RUN     MSTARS      MATTERDENS\n",
       "    int64     int32 int32  int32  ...  int16      float32       float32  \n",
       "------------- ----- ----- ------- ... -------- -------------- -----------\n",
       "    266516301   266 51630       1 ...        0      10.172931   1.7854924\n",
       "    266516304   266 51630       4 ...        0      10.422385   1.0360718\n",
       "    266516306   266 51630       6 ...        0       9.590905  0.20140773\n",
       "    267516081   267 51608       1 ...        0       9.789456 0.117286995\n",
       "    267516083   267 51608       3 ...        0      10.972907   1.0998263\n",
       "    267516084   267 51608       4 ...        0      10.363775  0.59949815\n",
       "    267516088   267 51608       8 ...        0      10.973039    0.956878\n",
       "    268516331   268 51633       1 ...        0       9.341592  0.39141583\n",
       "    268516336   268 51633       6 ...        0      11.139628   1.0693128\n",
       "    268516339   268 51633       9 ...        0      10.151027   1.1590105\n",
       "          ...   ...   ...     ... ...      ...            ...         ...\n",
       "7144565641000  7144 56564    1000 ...        6 161838350000.0  0.49192208\n",
       "7144565641000  7144 56564    1000 ...        8 161838350000.0  0.46939525\n",
       "7145565671000  7145 56567    1000 ...        4  75204340000.0   2.0468707\n",
       "7147565741000  7147 56574    1000 ...        4  21159447000.0   1.1054106\n",
       "7159566031000  7159 56603    1000 ...        6  68349194000.0  0.65156615\n",
       "7162566051000  7162 56605    1000 ...        2   4584142300.0   1.8643422\n",
       "7164565971000  7164 56597    1000 ...        6 159092020000.0  0.50926393\n",
       "7167566041000  7167 56604    1000 ...        8 124228460000.0  0.40400133\n",
       "7183566581000  7183 56658    1000 ...        6 155511880000.0  0.37771645\n",
       "7183566581000  7183 56658    1000 ...        8 155511880000.0    0.287163"
      ]
     },
     "execution_count": 61,
     "metadata": {},
     "output_type": "execute_result"
    }
   ],
   "source": [
    "new = vstack([vac_copy, bigtab])\n",
    "unique(new, keys=['catalogID', 'MCPM_RUN'])"
   ]
  },
  {
   "cell_type": "code",
   "execution_count": 51,
   "metadata": {},
   "outputs": [],
   "source": [
    "new.write('/Users/mwilde/Desktop/eboss_mcpm_vac_v0.4.fits', overwrite=True)\n",
    "new.write(pipedatadir+'slimeMold_galaxy_catalog_v1_0_0.fits', overwrite=True)\n",
    "new.write('/Users/mwilde/Desktop/slimeMold_galaxy_catalog_v1_0_0.fits', overwrite=True)"
   ]
  },
  {
   "cell_type": "code",
   "execution_count": 62,
   "metadata": {},
   "outputs": [
    {
     "data": {
      "image/png": "[encoded data removed]",
      "text/plain": [
       "<Figure size 432x288 with 1 Axes>"
      ]
     },
     "metadata": {
      "image/png": {
       "height": 248,
       "width": 381
      },
      "needs_background": "light"
     },
     "output_type": "display_data"
    }
   ],
   "source": [
    "bins = np.linspace(-2, 4, 500)\n",
    "plt.hist(new['MATTERDENS'], bins=bins);"
   ]
  },
  {
   "cell_type": "markdown",
   "metadata": {},
   "source": [
    "# make a version for sql with ints for mass source"
   ]
  },
  {
   "cell_type": "code",
   "execution_count": 63,
   "metadata": {},
   "outputs": [],
   "source": [
    "m = new['MASS_SOURCE']\n",
    "new['MASS_SOURCE'] = np.where(m == 'nsa', 2, 1).astype(np.int8)"
   ]
  },
  {
   "cell_type": "code",
   "execution_count": 64,
   "metadata": {},
   "outputs": [],
   "source": [
    "oldcolnames = ['catalogID','PLATE','MJD','FIBERID','RA','DEC','Z','MSTARS','MASS_SOURCE','MATTERDENS','MCPM_RUN']\n",
    "newcolnames = ['catalogID',\n",
    "'plate',\n",
    "'mjd',    \n",
    "'fiberid',   \n",
    "'ra',  \n",
    "'dec',       \n",
    "'z',      \n",
    "'mstars',    \n",
    "'massSource',\n",
    "'matterDens',\n",
    "'mcpmRun']\n",
    "new.rename_columns(oldcolnames, newcolnames)\n",
    "new.write(datadir+'ebossMCPM.fits', overwrite=True)\n",
    "new.write('/Users/mwilde/Desktop/ebossMCPM.fits', overwrite=True)"
   ]
  },
  {
   "cell_type": "markdown",
   "metadata": {},
   "source": []
  }
 ],
 "metadata": {
  "interpreter": {
   "hash": "0c50aadaae22ca3edcb7dcdb26ddd57a7809ef554295fcfc563e8b7fd04b9644"
  },
  "kernelspec": {
   "display_name": "Python 3.8.8 64-bit ('base': conda)",
   "language": "python",
   "name": "python3"
  },
  "language_info": {
   "codemirror_mode": {
    "name": "ipython",
    "version": 3
   },
   "file_extension": ".py",
   "mimetype": "text/x-python",
   "name": "python",
   "nbconvert_exporter": "python",
   "pygments_lexer": "ipython3",
   "version": "3.8.8"
  },
  "orig_nbformat": 4
 },
 "nbformat": 4,
 "nbformat_minor": 2
}
