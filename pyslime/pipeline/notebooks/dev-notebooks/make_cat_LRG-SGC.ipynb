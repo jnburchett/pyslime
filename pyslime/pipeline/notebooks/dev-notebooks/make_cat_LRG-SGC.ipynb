{
 "cells": [
  {
   "cell_type": "code",
   "execution_count": 9,
   "metadata": {},
   "outputs": [
    {
     "name": "stdout",
     "output_type": "stream",
     "text": [
      "The autoreload extension is already loaded. To reload it, use:\n",
      "  %reload_ext autoreload\n"
     ]
    }
   ],
   "source": [
    "%matplotlib inline\n",
    "%config InlineBackend.figure_format = \"retina\"\n",
    "%load_ext autoreload\n",
    "%autoreload 2\n",
    "import importlib.resources\n",
    "from pyslime import slime\n",
    "from pyslime import utils as pu\n",
    "\n",
    "import pandas as pd\n",
    "from importlib import reload\n",
    "from matplotlib import pyplot as plt\n",
    "import os\n",
    "\n",
    "\n",
    "datadir = \"/Volumes/GoogleDrive/My Drive/SlimeMold/2021-11-23-VACv2/\"\n",
    "otherdatadir = \"/Users/mwilde/python/pyslime/pyslime/data/\"\n"
   ]
  },
  {
   "cell_type": "code",
   "execution_count": 16,
   "metadata": {},
   "outputs": [
    {
     "ename": "AttributeError",
     "evalue": "module 'pyslime' has no attribute 'data'",
     "output_type": "error",
     "traceback": [
      "\u001b[0;31m---------------------------------------------------------------------------\u001b[0m",
      "\u001b[0;31mAttributeError\u001b[0m                            Traceback (most recent call last)",
      "\u001b[0;32m<ipython-input-16-b3f4b543b941>\u001b[0m in \u001b[0;36m<module>\u001b[0;34m\u001b[0m\n\u001b[0;32m----> 1\u001b[0;31m \u001b[0mpyslime\u001b[0m\u001b[0;34m.\u001b[0m\u001b[0mdata\u001b[0m\u001b[0;34m\u001b[0m\u001b[0;34m\u001b[0m\u001b[0m\n\u001b[0m",
      "\u001b[0;31mAttributeError\u001b[0m: module 'pyslime' has no attribute 'data'"
     ]
    }
   ],
   "source": [
    "pyslime.data"
   ]
  },
  {
   "cell_type": "code",
   "execution_count": 19,
   "metadata": {},
   "outputs": [],
   "source": [
    "from pyslime import data"
   ]
  },
  {
   "cell_type": "code",
   "execution_count": 20,
   "metadata": {},
   "outputs": [
    {
     "name": "stdout",
     "output_type": "stream",
     "text": [
      "(624, 1024, 768) (0, 1, 2)\n",
      "(768, 1024, 624)\n"
     ]
    },
    {
     "name": "stderr",
     "output_type": "stream",
     "text": [
      "/Users/mwilde/python/pyslime/pyslime/slime.py:122: RuntimeWarning: divide by zero encountered in log10\n",
      "  slimeobj.data = np.log10(slimeobj.data)\n"
     ]
    }
   ],
   "source": [
    "slimedir = datadir+\"LRG_SGC_z=0-1000mpc/\"\n",
    "slimeobj = slime.Slime.get_slime(slimedir, standardize=True)"
   ]
  },
  {
   "cell_type": "code",
   "execution_count": 17,
   "metadata": {},
   "outputs": [
    {
     "data": {
      "text/html": [
       "<div>\n",
       "<style scoped>\n",
       "    .dataframe tbody tr th:only-of-type {\n",
       "        vertical-align: middle;\n",
       "    }\n",
       "\n",
       "    .dataframe tbody tr th {\n",
       "        vertical-align: top;\n",
       "    }\n",
       "\n",
       "    .dataframe thead th {\n",
       "        text-align: right;\n",
       "    }\n",
       "</style>\n",
       "<table border=\"1\" class=\"dataframe\">\n",
       "  <thead>\n",
       "    <tr style=\"text-align: right;\">\n",
       "      <th></th>\n",
       "      <th>name</th>\n",
       "      <th>stretch</th>\n",
       "      <th>shift</th>\n",
       "    </tr>\n",
       "  </thead>\n",
       "  <tbody>\n",
       "    <tr>\n",
       "      <th>0</th>\n",
       "      <td>SDSS_z=44-476mpc</td>\n",
       "      <td>0.751141</td>\n",
       "      <td>-0.075630</td>\n",
       "    </tr>\n",
       "    <tr>\n",
       "      <th>1</th>\n",
       "      <td>LRG_NGC_z=0-1000mpc</td>\n",
       "      <td>0.810704</td>\n",
       "      <td>-0.126050</td>\n",
       "    </tr>\n",
       "    <tr>\n",
       "      <th>2</th>\n",
       "      <td>LRG_NGC_z=900-1600mpc</td>\n",
       "      <td>0.751141</td>\n",
       "      <td>-0.142857</td>\n",
       "    </tr>\n",
       "    <tr>\n",
       "      <th>3</th>\n",
       "      <td>LRG_SGC_z=0-1000mpc</td>\n",
       "      <td>0.805565</td>\n",
       "      <td>-0.126050</td>\n",
       "    </tr>\n",
       "    <tr>\n",
       "      <th>4</th>\n",
       "      <td>LRG_SGC_z=900-1600mpc</td>\n",
       "      <td>0.780355</td>\n",
       "      <td>-0.176471</td>\n",
       "    </tr>\n",
       "    <tr>\n",
       "      <th>0</th>\n",
       "      <td>LRG_NGC_z=1500-2100mpc</td>\n",
       "      <td>0.713884</td>\n",
       "      <td>-0.226891</td>\n",
       "    </tr>\n",
       "    <tr>\n",
       "      <th>1</th>\n",
       "      <td>LRG_NGC_z=2000-3000mpc</td>\n",
       "      <td>0.695954</td>\n",
       "      <td>-0.260504</td>\n",
       "    </tr>\n",
       "    <tr>\n",
       "      <th>2</th>\n",
       "      <td>LRG_SGC_z=1500-2100mpc</td>\n",
       "      <td>0.732276</td>\n",
       "      <td>-0.210084</td>\n",
       "    </tr>\n",
       "    <tr>\n",
       "      <th>3</th>\n",
       "      <td>LRG_SGC_z=2000-3000mpc</td>\n",
       "      <td>0.661434</td>\n",
       "      <td>-0.193277</td>\n",
       "    </tr>\n",
       "  </tbody>\n",
       "</table>\n",
       "</div>"
      ],
      "text/plain": [
       "                     name   stretch     shift\n",
       "0        SDSS_z=44-476mpc  0.751141 -0.075630\n",
       "1     LRG_NGC_z=0-1000mpc  0.810704 -0.126050\n",
       "2   LRG_NGC_z=900-1600mpc  0.751141 -0.142857\n",
       "3     LRG_SGC_z=0-1000mpc  0.805565 -0.126050\n",
       "4   LRG_SGC_z=900-1600mpc  0.780355 -0.176471\n",
       "0  LRG_NGC_z=1500-2100mpc  0.713884 -0.226891\n",
       "1  LRG_NGC_z=2000-3000mpc  0.695954 -0.260504\n",
       "2  LRG_SGC_z=1500-2100mpc  0.732276 -0.210084\n",
       "3  LRG_SGC_z=2000-3000mpc  0.661434 -0.193277"
      ]
     },
     "execution_count": 17,
     "metadata": {},
     "output_type": "execute_result"
    }
   ],
   "source": []
  },
  {
   "cell_type": "code",
   "execution_count": 14,
   "metadata": {},
   "outputs": [
    {
     "name": "stdout",
     "output_type": "stream",
     "text": [
      "(624, 1024, 768) (0, 1, 2)\n",
      "(768, 1024, 624)\n"
     ]
    }
   ],
   "source": [
    "\n",
    "slimeobj = slime.Slime.from_dir(slime_run)"
   ]
  },
  {
   "cell_type": "code",
   "execution_count": 42,
   "metadata": {},
   "outputs": [],
   "source": [
    "nameidx = slimeobj.name.rfind(\"/\") + 1\n",
    "name = slimeobj.name[nameidx:]\n",
    "stretch = df.loc[df.name == name][\"stretch\"].values[0]\n",
    "shift = df.loc[df.name == name][\"shift\"].values[0]"
   ]
  },
  {
   "cell_type": "code",
   "execution_count": 43,
   "metadata": {},
   "outputs": [
    {
     "data": {
      "text/plain": [
       "(-0.1260504201680672, 0.8055652716794949)"
      ]
     },
     "execution_count": 43,
     "metadata": {},
     "output_type": "execute_result"
    }
   ],
   "source": []
  },
  {
   "cell_type": "code",
   "execution_count": 27,
   "metadata": {},
   "outputs": [],
   "source": [
    "series = df.loc[df.name == name]"
   ]
  },
  {
   "cell_type": "code",
   "execution_count": 39,
   "metadata": {},
   "outputs": [
    {
     "data": {
      "text/plain": [
       "array([0.80556527])"
      ]
     },
     "execution_count": 39,
     "metadata": {},
     "output_type": "execute_result"
    }
   ],
   "source": [
    "series[\"stretch\"].values"
   ]
  },
  {
   "cell_type": "code",
   "execution_count": null,
   "metadata": {},
   "outputs": [],
   "source": []
  }
 ],
 "metadata": {
  "interpreter": {
   "hash": "0c50aadaae22ca3edcb7dcdb26ddd57a7809ef554295fcfc563e8b7fd04b9644"
  },
  "kernelspec": {
   "display_name": "Python 3.8.8 64-bit ('base': conda)",
   "language": "python",
   "name": "python3"
  },
  "language_info": {
   "codemirror_mode": {
    "name": "ipython",
    "version": 3
   },
   "file_extension": ".py",
   "mimetype": "text/x-python",
   "name": "python",
   "nbconvert_exporter": "python",
   "pygments_lexer": "ipython3",
   "version": "3.8.8"
  },
  "orig_nbformat": 4
 },
 "nbformat": 4,
 "nbformat_minor": 2
}
