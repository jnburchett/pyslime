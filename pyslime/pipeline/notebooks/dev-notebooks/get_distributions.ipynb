{
 "cells": [
  {
   "cell_type": "code",
   "execution_count": 1,
   "metadata": {},
   "outputs": [],
   "source": [
    "import numpy as np\n",
    "from pyslime import utils as pu\n",
    "import pyslime.pipeline.pipelineUtils as ppu\n",
    "import glob\n",
    "import os"
   ]
  },
  {
   "cell_type": "code",
   "execution_count": 26,
   "metadata": {},
   "outputs": [],
   "source": [
    "datadir = \"/Volumes/GoogleDrive/My Drive/SlimeMold/2021-11-23-VACv2/\"\n",
    "packagedir = \"/Users/mwilde/python/pyslime/pyslime/pipeline/data/\""
   ]
  },
  {
   "cell_type": "code",
   "execution_count": 5,
   "metadata": {},
   "outputs": [],
   "source": [
    "def get_datafolders(datadir):\n",
    "    everything = glob.glob(datadir+'*')\n",
    "    datafolders = [f for f in everything if '.zip' not in f]\n",
    "    return datafolders"
   ]
  },
  {
   "cell_type": "code",
   "execution_count": 25,
   "metadata": {},
   "outputs": [],
   "source": [
    "def get_hist(file):\n",
    "    slime = pu.get_slime(file, dtype=np.float32, standardize=False)\n",
    "    slimedata = slime.data.ravel()\n",
    "    bpmin = slimedata[~np.isinf(slimedata)].min()\n",
    "    bins = np.linspace(bpmin, np.max(slimedata), 10000)\n",
    "    uweights, uvalues = ppu.get_hist(slimedata, bins=bins)\n",
    "    return uweights, uvalues"
   ]
  },
  {
   "cell_type": "code",
   "execution_count": 27,
   "metadata": {},
   "outputs": [
    {
     "name": "stdout",
     "output_type": "stream",
     "text": [
      "working on BP_z_0_0\n",
      "(960, 960, 960) (0, 1, 2)\n",
      "(960, 960, 960)\n"
     ]
    },
    {
     "name": "stderr",
     "output_type": "stream",
     "text": [
      "/Users/mwilde/python/pyslime/pyslime/utils.py:331: RuntimeWarning: divide by zero encountered in log10\n",
      "  bpslime.data = np.log10(bpslime.data)\n"
     ]
    },
    {
     "name": "stdout",
     "output_type": "stream",
     "text": [
      "writing /Users/mwilde/python/pyslime/pyslime/pipeline/data/BP_z_0_0_dist.npz\n",
      "working on BP_z_0_5\n",
      "(960, 960, 960) (0, 1, 2)\n",
      "(960, 960, 960)\n",
      "writing /Users/mwilde/python/pyslime/pyslime/pipeline/data/BP_z_0_5_dist.npz\n",
      "working on LRG_SGC_z_0-1000mpc\n",
      "(624, 1024, 768) (0, 1, 2)\n",
      "(768, 1024, 624)\n",
      "writing /Users/mwilde/python/pyslime/pyslime/pipeline/data/LRG_SGC_z_0-1000mpc_dist.npz\n",
      "working on LRG_NGC_z_1500-2100mpc\n",
      "(616, 1024, 584) (0, 1, 2)\n",
      "(584, 1024, 616)\n",
      "writing /Users/mwilde/python/pyslime/pyslime/pipeline/data/LRG_NGC_z_1500-2100mpc_dist.npz\n",
      "working on LRG_NGC_z_2000-3000mpc\n",
      "(664, 1024, 632) (0, 1, 2)\n",
      "(632, 1024, 664)\n",
      "writing /Users/mwilde/python/pyslime/pyslime/pipeline/data/LRG_NGC_z_2000-3000mpc_dist.npz\n",
      "working on LRG_NGC_z_900-1600mpc\n",
      "(616, 1024, 592) (0, 1, 2)\n",
      "(592, 1024, 616)\n",
      "writing /Users/mwilde/python/pyslime/pyslime/pipeline/data/LRG_NGC_z_900-1600mpc_dist.npz\n",
      "working on LRG_SGC_z_1500-2100mpc\n",
      "(616, 1024, 432) (0, 1, 2)\n",
      "(432, 1024, 616)\n",
      "writing /Users/mwilde/python/pyslime/pyslime/pipeline/data/LRG_SGC_z_1500-2100mpc_dist.npz\n",
      "working on LRG_SGC_z_2000-3000mpc\n",
      "(608, 1024, 440) (0, 1, 2)\n",
      "(440, 1024, 608)\n",
      "writing /Users/mwilde/python/pyslime/pyslime/pipeline/data/LRG_SGC_z_2000-3000mpc_dist.npz\n",
      "working on LRG_SGC_z_900-1600mpc\n",
      "(632, 1024, 504) (0, 1, 2)\n",
      "(504, 1024, 632)\n",
      "writing /Users/mwilde/python/pyslime/pyslime/pipeline/data/LRG_SGC_z_900-1600mpc_dist.npz\n",
      "working on SDSS_z_44-476mpc\n",
      "(728, 1200, 712) (0, 1, 2)\n",
      "(712, 1200, 728)\n",
      "writing /Users/mwilde/python/pyslime/pyslime/pipeline/data/SDSS_z_44-476mpc_dist.npz\n",
      "working on LRG_NGC_z_0-1000mpc\n",
      "(616, 1024, 624) (0, 1, 2)\n",
      "(624, 1024, 616)\n",
      "writing /Users/mwilde/python/pyslime/pyslime/pipeline/data/LRG_NGC_z_0-1000mpc_dist.npz\n"
     ]
    }
   ],
   "source": [
    "def make_distribution_files(datafolders, packagedir):\n",
    "    for file in datafolders:\n",
    "        name = file.replace('=', '_')\n",
    "        name = name.replace('.', '_')\n",
    "        name = name[57:]\n",
    "        y = name+'_weights'\n",
    "        x = name+'_values'\n",
    "        outfilename = packagedir + name + '_dist.npz'\n",
    "        if not os.path.exists(outfilename):\n",
    "            print(f\"working on {name}\")\n",
    "            w, v = get_hist(file)\n",
    "            print(f\"writing {outfilename}\")\n",
    "            \n",
    "            np.savez(outfilename, w, v)\n",
    "        else:\n",
    "            print(f\"{outfilename} already exists\")\n",
    "    \n",
    "    \n"
   ]
  },
  {
   "cell_type": "code",
   "execution_count": null,
   "metadata": {},
   "outputs": [],
   "source": []
  }
 ],
 "metadata": {
  "interpreter": {
   "hash": "0c50aadaae22ca3edcb7dcdb26ddd57a7809ef554295fcfc563e8b7fd04b9644"
  },
  "kernelspec": {
   "display_name": "Python 3.8.8 64-bit ('base': conda)",
   "language": "python",
   "name": "python3"
  },
  "language_info": {
   "codemirror_mode": {
    "name": "ipython",
    "version": 3
   },
   "file_extension": ".py",
   "mimetype": "text/x-python",
   "name": "python",
   "nbconvert_exporter": "python",
   "pygments_lexer": "ipython3",
   "version": "3.8.8"
  },
  "orig_nbformat": 4
 },
 "nbformat": 4,
 "nbformat_minor": 2
}
