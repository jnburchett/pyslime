{
 "cells": [
  {
   "cell_type": "markdown",
   "id": "dbdd7469",
   "metadata": {},
   "source": [
    "# Verify fits using the halo catolog and the densities of clusters (ie. Coma Cluster) and compare to the SDSS fits. "
   ]
  },
  {
   "cell_type": "code",
   "execution_count": 1,
   "id": "a6bedaa4",
   "metadata": {},
   "outputs": [],
   "source": [
    "%matplotlib inline\n",
    "%matplotlib inline\n",
    "%load_ext autoreload\n",
    "%autoreload 2\n",
    "%config InlineBackend.figure_format = \"retina\"\n",
    "from matplotlib import pyplot as plt\n",
    "import numpy as np\n",
    "from pyslime import slime\n",
    "from pyslime import utils as pu\n",
    "import glob\n",
    "\n",
    "import pandas as pd\n",
    "import pickle\n",
    "\n",
    "from astropy.table import Table, vstack\n",
    "from astropy.cosmology import Planck15 as cosmo\n",
    "from astropy.coordinates import SkyCoord\n",
    "import astropy.units as u\n",
    "\n",
    "plt.rcParams['font.serif'] = 'Times New Roman'\n",
    "plt.rcParams['font.size'] = 16"
   ]
  },
  {
   "cell_type": "markdown",
   "id": "30533161",
   "metadata": {},
   "source": [
    "### bp halo file"
   ]
  },
  {
   "cell_type": "code",
   "execution_count": 2,
   "id": "0da4ef84",
   "metadata": {},
   "outputs": [],
   "source": [
    "bphalofile =  '/Users/mwilde/Dropbox/slime-mold/data/Bolshoi-Planck/bpdattrim_noDistCut.csv'\n",
    "bphalos = pd.read_csv(bphalofile)"
   ]
  },
  {
   "cell_type": "code",
   "execution_count": 3,
   "id": "ccb49e7d",
   "metadata": {},
   "outputs": [
    {
     "data": {
      "text/plain": [
       "(15.16, 5.409254773364251)"
      ]
     },
     "execution_count": 3,
     "metadata": {},
     "output_type": "execute_result"
    }
   ],
   "source": [
    "bphalos.M200b.max(), np.log10(bphalos.density_CIC.max())"
   ]
  },
  {
   "cell_type": "code",
   "execution_count": 4,
   "id": "8eff9e83",
   "metadata": {},
   "outputs": [
    {
     "data": {
      "text/html": [
       "<div>\n",
       "<style scoped>\n",
       "    .dataframe tbody tr th:only-of-type {\n",
       "        vertical-align: middle;\n",
       "    }\n",
       "\n",
       "    .dataframe tbody tr th {\n",
       "        vertical-align: top;\n",
       "    }\n",
       "\n",
       "    .dataframe thead th {\n",
       "        text-align: right;\n",
       "    }\n",
       "</style>\n",
       "<table border=\"1\" class=\"dataframe\">\n",
       "  <thead>\n",
       "    <tr style=\"text-align: right;\">\n",
       "      <th></th>\n",
       "      <th>M200b</th>\n",
       "      <th>density_CIC</th>\n",
       "      <th>x_dist</th>\n",
       "      <th>y_dist</th>\n",
       "      <th>z_dist</th>\n",
       "    </tr>\n",
       "  </thead>\n",
       "  <tbody>\n",
       "    <tr>\n",
       "      <th>116846</th>\n",
       "      <td>15.087</td>\n",
       "      <td>213803.72</td>\n",
       "      <td>-158.749</td>\n",
       "      <td>-134.504</td>\n",
       "      <td>225.407</td>\n",
       "    </tr>\n",
       "    <tr>\n",
       "      <th>2510282</th>\n",
       "      <td>15.160</td>\n",
       "      <td>256598.89</td>\n",
       "      <td>-111.501</td>\n",
       "      <td>61.480</td>\n",
       "      <td>136.684</td>\n",
       "    </tr>\n",
       "  </tbody>\n",
       "</table>\n",
       "</div>"
      ],
      "text/plain": [
       "          M200b  density_CIC   x_dist   y_dist   z_dist\n",
       "116846   15.087    213803.72 -158.749 -134.504  225.407\n",
       "2510282  15.160    256598.89 -111.501   61.480  136.684"
      ]
     },
     "execution_count": 4,
     "metadata": {},
     "output_type": "execute_result"
    }
   ],
   "source": [
    "bphalos.query('M200b > 15')"
   ]
  },
  {
   "cell_type": "code",
   "execution_count": 5,
   "id": "85fddd08",
   "metadata": {},
   "outputs": [],
   "source": [
    "xcart = bphalos.loc[bphalos.M200b.idxmax()].x_dist\n",
    "ycart = bphalos.loc[bphalos.M200b.idxmax()].y_dist\n",
    "zcart = bphalos.loc[bphalos.M200b.idxmax()].z_dist"
   ]
  },
  {
   "cell_type": "code",
   "execution_count": 6,
   "id": "5d996d13",
   "metadata": {},
   "outputs": [
    {
     "data": {
      "image/png": "[encoded data removed]",
      "text/plain": [
       "<Figure size 432x288 with 1 Axes>"
      ]
     },
     "metadata": {
      "image/png": {
       "height": 269,
       "width": 381
      },
      "needs_background": "light"
     },
     "output_type": "display_data"
    }
   ],
   "source": [
    "bphalos.M200b.hist(bins=40);"
   ]
  },
  {
   "cell_type": "markdown",
   "id": "c24cc1be",
   "metadata": {},
   "source": [
    "### coma cluster mass  $M_{200} \\sim 10^{15} M_{\\odot}$ \n",
    "https://iopscience.iop.org/article/10.1086/523101/pdf"
   ]
  },
  {
   "cell_type": "markdown",
   "id": "73b4dc31",
   "metadata": {},
   "source": [
    "# load in the bp sim to query density at location of large halos"
   ]
  },
  {
   "cell_type": "code",
   "execution_count": 8,
   "id": "22b0ed5e",
   "metadata": {},
   "outputs": [],
   "source": [
    "bpDensityFile = '/Users/mwilde/Dropbox/slime-mold/data/final_data/BP_0214_densities_1024_0.bin'\n",
    "rho_m = np.fromfile(bpDensityFile, dtype=np.float64)\n",
    "rho_m = np.reshape(rho_m,(1024,1024,1024))"
   ]
  },
  {
   "cell_type": "code",
   "execution_count": 9,
   "id": "513e1811",
   "metadata": {},
   "outputs": [],
   "source": [
    "logrhom = np.log10(rho_m)"
   ]
  },
  {
   "cell_type": "markdown",
   "id": "a8aff841",
   "metadata": {},
   "source": [
    "# load in bp-slime to compare"
   ]
  },
  {
   "cell_type": "code",
   "execution_count": 10,
   "id": "ce3a0401",
   "metadata": {},
   "outputs": [
    {
     "name": "stdout",
     "output_type": "stream",
     "text": [
      "(720, 720, 720) (0, 1, 2)\n",
      "(720, 720, 720)\n"
     ]
    },
    {
     "name": "stderr",
     "output_type": "stream",
     "text": [
      "/Users/mwilde/python/pyslime/pyslime/utils.py:328: RuntimeWarning: divide by zero encountered in log10\n",
      "  bpslime.data = np.log10(bpslime.data)\n"
     ]
    }
   ],
   "source": [
    "smdir = '../data/BP_z=0p0/'\n",
    "bpslime_dir = '/Volumes/GoogleDrive/My Drive/SlimeMold/2021-10-12/BP_z=0_float32'\n",
    "bpslime_datafile='trace_BP_z=0_float32.bin'\n",
    "sdss_slime_dir = '/Volumes/GoogleDrive/My Drive/SlimeMold/2021-10-12/SDSS_z=0.1_float32'\n",
    "sdss_datafile = 'trace_SDSS_z=0.1_float32.bin'\n",
    "\n",
    "# bpslime_old = get_slime(smdir)\n",
    "bpslime = pu.get_slime(bpslime_dir,\n",
    "                         datafile=bpslime_datafile,\n",
    "                         dtype=np.float32,\n",
    "                         standardize=False)"
   ]
  },
  {
   "cell_type": "code",
   "execution_count": 11,
   "id": "961ba246",
   "metadata": {},
   "outputs": [],
   "source": [
    "xidx, yidx, zidx = bpslime.cartesian_to_idx(np.array(bphalos.x_dist), np.array(bphalos.y_dist), np.array(bphalos.z_dist))\n",
    "# xcut, ycut, zcut = [(idx < 1000) & (idx>24) for idx in (xidx, yidx, zidx)]\n",
    "slimedens = bpslime.data[xidx, yidx, zidx]"
   ]
  },
  {
   "cell_type": "code",
   "execution_count": 12,
   "metadata": {},
   "outputs": [],
   "source": [
    "from pyslime.pipeline import pipelineUtils as ppu\n",
    "\n",
    "xdist, ydist, zdist = pu.idx_to_cartesian(\n",
    "            xidx, yidx, zidx, slime=bpslime\n",
    "        )\n",
    "\n"
   ]
  },
  {
   "cell_type": "code",
   "execution_count": 30,
   "metadata": {},
   "outputs": [],
   "source": []
  },
  {
   "cell_type": "code",
   "execution_count": null,
   "metadata": {},
   "outputs": [],
   "source": []
  },
  {
   "cell_type": "code",
   "execution_count": 24,
   "metadata": {},
   "outputs": [],
   "source": [
    "\n",
    "def find_nearest(array, value):\n",
    "    idx = np.searchsorted(array, value, side=\"left\")\n",
    "    idx = idx - (np.abs(value - array[idx-1]) < np.abs(value - array[idx]))\n",
    "    return idx\n"
   ]
  },
  {
   "cell_type": "code",
   "execution_count": 27,
   "metadata": {},
   "outputs": [],
   "source": [
    "xycoords_rho = np.linspace(-125 / cosmo.h, 125.0 / cosmo.h, 1024)\n",
    "zcoords_rho = np.linspace(0.0, 250.0 / cosmo.h, 1024)\n",
    "fn_idx = find_nearest(xycoords_rho, xdist)"
   ]
  },
  {
   "cell_type": "code",
   "execution_count": 31,
   "metadata": {},
   "outputs": [
    {
     "data": {
      "text/plain": [
       "array([  87,   89,   90, ...,  907,  907, 1022])"
      ]
     },
     "execution_count": 31,
     "metadata": {},
     "output_type": "execute_result"
    }
   ],
   "source": [
    "fn_idx"
   ]
  },
  {
   "cell_type": "code",
   "execution_count": 28,
   "metadata": {},
   "outputs": [],
   "source": [
    "ss_idx = np.searchsorted(xycoords_rho, xdist, side='right')"
   ]
  },
  {
   "cell_type": "code",
   "execution_count": 29,
   "metadata": {},
   "outputs": [],
   "source": [
    "joes_idx = ppu.closest(xycoords_rho, xdist)"
   ]
  },
  {
   "cell_type": "code",
   "execution_count": 33,
   "metadata": {},
   "outputs": [
    {
     "data": {
      "text/plain": [
       "(0, 12085858, 12085858, 12085858)"
      ]
     },
     "execution_count": 33,
     "metadata": {},
     "output_type": "execute_result"
    }
   ],
   "source": [
    "dif = np.abs(np.array(fn_idx) - np.array(joes_idx))\n",
    "np.sum(dif), len(dif), len(joes_idx), len(ss_idx)\n"
   ]
  },
  {
   "cell_type": "code",
   "execution_count": 51,
   "metadata": {},
   "outputs": [
    {
     "data": {
      "image/png": "[encoded data removed]",
      "text/plain": [
       "<Figure size 432x288 with 1 Axes>"
      ]
     },
     "metadata": {
      "image/png": {
       "height": 269,
       "width": 391
      },
      "needs_background": "light"
     },
     "output_type": "display_data"
    }
   ],
   "source": [
    "plt.hist(dif);"
   ]
  },
  {
   "cell_type": "code",
   "execution_count": 149,
   "metadata": {},
   "outputs": [],
   "source": [
    "\n",
    "\n",
    "xycoords_rho = np.linspace(-125 / cosmo.h, 125.0 / cosmo.h, 1024)\n",
    "zcoords_rho = np.linspace(0.0, 250.0 / cosmo.h, 1024)\n",
    "x = np.array(bisection(xycoords_rho, xdist[0]), dtype=np.int32)\n",
    "# y = int(ppu.closest(xycoords_rho, ydist))\n",
    "# z = int(ppu.closest(zcoords_rho, zdist))"
   ]
  },
  {
   "cell_type": "code",
   "execution_count": 148,
   "metadata": {},
   "outputs": [
    {
     "ename": "KeyboardInterrupt",
     "evalue": "",
     "output_type": "error",
     "traceback": [
      "\u001b[0;31m---------------------------------------------------------------------------\u001b[0m",
      "\u001b[0;31mKeyboardInterrupt\u001b[0m                         Traceback (most recent call last)",
      "\u001b[0;32m<ipython-input-148-c8966c41c314>\u001b[0m in \u001b[0;36m<module>\u001b[0;34m\u001b[0m\n\u001b[1;32m      4\u001b[0m \u001b[0;34m\u001b[0m\u001b[0m\n\u001b[1;32m      5\u001b[0m \u001b[0;32mfor\u001b[0m \u001b[0mi\u001b[0m \u001b[0;32min\u001b[0m \u001b[0mrange\u001b[0m\u001b[0;34m(\u001b[0m\u001b[0mlen\u001b[0m\u001b[0;34m(\u001b[0m\u001b[0mxdist\u001b[0m\u001b[0;34m)\u001b[0m\u001b[0;34m)\u001b[0m\u001b[0;34m:\u001b[0m\u001b[0;34m\u001b[0m\u001b[0;34m\u001b[0m\u001b[0m\n\u001b[0;32m----> 6\u001b[0;31m     \u001b[0mbpidx_x\u001b[0m\u001b[0;34m[\u001b[0m\u001b[0mi\u001b[0m\u001b[0;34m]\u001b[0m\u001b[0;34m,\u001b[0m \u001b[0mbpidx_y\u001b[0m\u001b[0;34m[\u001b[0m\u001b[0mi\u001b[0m\u001b[0;34m]\u001b[0m\u001b[0;34m,\u001b[0m \u001b[0mbpidx_z\u001b[0m\u001b[0;34m[\u001b[0m\u001b[0mi\u001b[0m\u001b[0;34m]\u001b[0m \u001b[0;34m=\u001b[0m \u001b[0mppu\u001b[0m\u001b[0;34m.\u001b[0m\u001b[0mbprho_dist_to_idx\u001b[0m\u001b[0;34m(\u001b[0m\u001b[0mxdist\u001b[0m\u001b[0;34m[\u001b[0m\u001b[0mi\u001b[0m\u001b[0;34m]\u001b[0m\u001b[0;34m,\u001b[0m \u001b[0mydist\u001b[0m\u001b[0;34m[\u001b[0m\u001b[0mi\u001b[0m\u001b[0;34m]\u001b[0m\u001b[0;34m,\u001b[0m \u001b[0mzdist\u001b[0m\u001b[0;34m[\u001b[0m\u001b[0mi\u001b[0m\u001b[0;34m]\u001b[0m\u001b[0;34m)\u001b[0m\u001b[0;34m\u001b[0m\u001b[0;34m\u001b[0m\u001b[0m\n\u001b[0m",
      "\u001b[0;32m~/python/pyslime/pyslime/pipeline/pipelineUtils.py\u001b[0m in \u001b[0;36mbprho_dist_to_idx\u001b[0;34m(x_dist, y_dist, z_dist, brick_size)\u001b[0m\n\u001b[1;32m     27\u001b[0m \u001b[0;34m\u001b[0m\u001b[0m\n\u001b[1;32m     28\u001b[0m \u001b[0;32mdef\u001b[0m \u001b[0mbprho_dist_to_idx\u001b[0m\u001b[0;34m(\u001b[0m\u001b[0mx_dist\u001b[0m\u001b[0;34m,\u001b[0m \u001b[0my_dist\u001b[0m\u001b[0;34m,\u001b[0m \u001b[0mz_dist\u001b[0m\u001b[0;34m,\u001b[0m \u001b[0mbrick_size\u001b[0m\u001b[0;34m=\u001b[0m\u001b[0;36m1024\u001b[0m\u001b[0;34m)\u001b[0m\u001b[0;34m:\u001b[0m\u001b[0;34m\u001b[0m\u001b[0;34m\u001b[0m\u001b[0m\n\u001b[0;32m---> 29\u001b[0;31m     \u001b[0mxycoords_rho\u001b[0m \u001b[0;34m=\u001b[0m \u001b[0mnp\u001b[0m\u001b[0;34m.\u001b[0m\u001b[0mlinspace\u001b[0m\u001b[0;34m(\u001b[0m\u001b[0;34m-\u001b[0m\u001b[0;36m125\u001b[0m \u001b[0;34m/\u001b[0m \u001b[0mcosmo\u001b[0m\u001b[0;34m.\u001b[0m\u001b[0mh\u001b[0m\u001b[0;34m,\u001b[0m \u001b[0;36m125.0\u001b[0m \u001b[0;34m/\u001b[0m \u001b[0mcosmo\u001b[0m\u001b[0;34m.\u001b[0m\u001b[0mh\u001b[0m\u001b[0;34m,\u001b[0m \u001b[0;36m1024\u001b[0m\u001b[0;34m)\u001b[0m\u001b[0;34m\u001b[0m\u001b[0;34m\u001b[0m\u001b[0m\n\u001b[0m\u001b[1;32m     30\u001b[0m     \u001b[0mzcoords_rho\u001b[0m \u001b[0;34m=\u001b[0m \u001b[0mnp\u001b[0m\u001b[0;34m.\u001b[0m\u001b[0mlinspace\u001b[0m\u001b[0;34m(\u001b[0m\u001b[0;36m0.0\u001b[0m\u001b[0;34m,\u001b[0m \u001b[0;36m250.0\u001b[0m \u001b[0;34m/\u001b[0m \u001b[0mcosmo\u001b[0m\u001b[0;34m.\u001b[0m\u001b[0mh\u001b[0m\u001b[0;34m,\u001b[0m \u001b[0;36m1024\u001b[0m\u001b[0;34m)\u001b[0m\u001b[0;34m\u001b[0m\u001b[0;34m\u001b[0m\u001b[0m\n\u001b[1;32m     31\u001b[0m     \u001b[0mx\u001b[0m \u001b[0;34m=\u001b[0m \u001b[0mint\u001b[0m\u001b[0;34m(\u001b[0m\u001b[0mclosest\u001b[0m\u001b[0;34m(\u001b[0m\u001b[0mxycoords_rho\u001b[0m\u001b[0;34m,\u001b[0m \u001b[0mx_dist\u001b[0m\u001b[0;34m)\u001b[0m\u001b[0;34m)\u001b[0m\u001b[0;34m\u001b[0m\u001b[0;34m\u001b[0m\u001b[0m\n",
      "\u001b[0;32m<__array_function__ internals>\u001b[0m in \u001b[0;36mlinspace\u001b[0;34m(*args, **kwargs)\u001b[0m\n",
      "\u001b[0;32m~/opt/anaconda3/lib/python3.8/site-packages/numpy/core/function_base.py\u001b[0m in \u001b[0;36mlinspace\u001b[0;34m(start, stop, num, endpoint, retstep, dtype, axis)\u001b[0m\n\u001b[1;32m    133\u001b[0m \u001b[0;34m\u001b[0m\u001b[0m\n\u001b[1;32m    134\u001b[0m     \u001b[0mdelta\u001b[0m \u001b[0;34m=\u001b[0m \u001b[0mstop\u001b[0m \u001b[0;34m-\u001b[0m \u001b[0mstart\u001b[0m\u001b[0;34m\u001b[0m\u001b[0;34m\u001b[0m\u001b[0m\n\u001b[0;32m--> 135\u001b[0;31m     \u001b[0my\u001b[0m \u001b[0;34m=\u001b[0m \u001b[0m_nx\u001b[0m\u001b[0;34m.\u001b[0m\u001b[0marange\u001b[0m\u001b[0;34m(\u001b[0m\u001b[0;36m0\u001b[0m\u001b[0;34m,\u001b[0m \u001b[0mnum\u001b[0m\u001b[0;34m,\u001b[0m \u001b[0mdtype\u001b[0m\u001b[0;34m=\u001b[0m\u001b[0mdt\u001b[0m\u001b[0;34m)\u001b[0m\u001b[0;34m.\u001b[0m\u001b[0mreshape\u001b[0m\u001b[0;34m(\u001b[0m\u001b[0;34m(\u001b[0m\u001b[0;34m-\u001b[0m\u001b[0;36m1\u001b[0m\u001b[0;34m,\u001b[0m\u001b[0;34m)\u001b[0m \u001b[0;34m+\u001b[0m \u001b[0;34m(\u001b[0m\u001b[0;36m1\u001b[0m\u001b[0;34m,\u001b[0m\u001b[0;34m)\u001b[0m \u001b[0;34m*\u001b[0m \u001b[0mndim\u001b[0m\u001b[0;34m(\u001b[0m\u001b[0mdelta\u001b[0m\u001b[0;34m)\u001b[0m\u001b[0;34m)\u001b[0m\u001b[0;34m\u001b[0m\u001b[0;34m\u001b[0m\u001b[0m\n\u001b[0m\u001b[1;32m    136\u001b[0m     \u001b[0;31m# In-place multiplication y *= delta/div is faster, but prevents the multiplicant\u001b[0m\u001b[0;34m\u001b[0m\u001b[0;34m\u001b[0m\u001b[0;34m\u001b[0m\u001b[0m\n\u001b[1;32m    137\u001b[0m     \u001b[0;31m# from overriding what class is produced, and thus prevents, e.g. use of Quantities,\u001b[0m\u001b[0;34m\u001b[0m\u001b[0;34m\u001b[0m\u001b[0;34m\u001b[0m\u001b[0m\n",
      "\u001b[0;31mKeyboardInterrupt\u001b[0m: "
     ]
    }
   ],
   "source": [
    "bpidx_x = np.zeros_like(xdist) \n",
    "bpidx_y = np.zeros_like(xdist)\n",
    "bpidx_z = np.zeros_like(xdist)\n",
    "\n",
    "for i in range(len(xdist)):\n",
    "    bpidx_x[i], bpidx_y[i], bpidx_z[i] = ppu.bprho_dist_to_idx(xdist[i], ydist[i], zdist[i])"
   ]
  },
  {
   "cell_type": "code",
   "execution_count": 107,
   "metadata": {},
   "outputs": [
    {
     "ename": "IndexError",
     "evalue": "index 1024 is out of bounds for axis 0 with size 1024",
     "output_type": "error",
     "traceback": [
      "\u001b[0;31m---------------------------------------------------------------------------\u001b[0m",
      "\u001b[0;31mIndexError\u001b[0m                                Traceback (most recent call last)",
      "\u001b[0;32m<ipython-input-107-4ceb1c228526>\u001b[0m in \u001b[0;36m<module>\u001b[0;34m\u001b[0m\n\u001b[0;32m----> 1\u001b[0;31m \u001b[0mxidx\u001b[0m\u001b[0;34m.\u001b[0m\u001b[0mmax\u001b[0m\u001b[0;34m(\u001b[0m\u001b[0;34m)\u001b[0m\u001b[0;34m,\u001b[0m \u001b[0mxidx\u001b[0m\u001b[0;34m.\u001b[0m\u001b[0mmin\u001b[0m\u001b[0;34m(\u001b[0m\u001b[0;34m)\u001b[0m\u001b[0;34m,\u001b[0m \u001b[0mbpslime\u001b[0m\u001b[0;34m.\u001b[0m\u001b[0mdata\u001b[0m\u001b[0;34m[\u001b[0m\u001b[0;36m1024\u001b[0m\u001b[0;34m,\u001b[0m \u001b[0;36m0\u001b[0m\u001b[0;34m,\u001b[0m \u001b[0;36m0\u001b[0m\u001b[0;34m]\u001b[0m\u001b[0;34m\u001b[0m\u001b[0;34m\u001b[0m\u001b[0m\n\u001b[0m",
      "\u001b[0;31mIndexError\u001b[0m: index 1024 is out of bounds for axis 0 with size 1024"
     ]
    }
   ],
   "source": [
    "xidx.max(), xidx.min(), bpslime.data[1024, 0, 0]"
   ]
  },
  {
   "cell_type": "code",
   "execution_count": 33,
   "metadata": {},
   "outputs": [
    {
     "data": {
      "text/plain": [
       "(1024, 1024, 1024)"
      ]
     },
     "execution_count": 33,
     "metadata": {},
     "output_type": "execute_result"
    }
   ],
   "source": [
    "bpslime.data.shape"
   ]
  },
  {
   "cell_type": "code",
   "execution_count": 34,
   "id": "a1091dc6",
   "metadata": {},
   "outputs": [
    {
     "data": {
      "image/png": "[encoded data removed]",
      "text/plain": [
       "<Figure size 432x288 with 1 Axes>"
      ]
     },
     "metadata": {
      "image/png": {
       "height": 254,
       "width": 417
      },
      "needs_background": "light"
     },
     "output_type": "display_data"
    }
   ],
   "source": [
    "plt.hist(slimedens[~np.isinf(slimedens)], bins=400);"
   ]
  },
  {
   "cell_type": "code",
   "execution_count": null,
   "id": "759c9c1e",
   "metadata": {},
   "outputs": [],
   "source": [
    "bpdens = logrhom[bpidx_x, bpidx_y, bpidx_z]"
   ]
  },
  {
   "cell_type": "code",
   "execution_count": 121,
   "id": "5acb4e91",
   "metadata": {},
   "outputs": [
    {
     "data": {
      "image/png": "[encoded data removed]",
      "text/plain": [
       "<Figure size 432x288 with 1 Axes>"
      ]
     },
     "metadata": {
      "image/png": {
       "height": 254,
       "width": 407
      },
      "needs_background": "light"
     },
     "output_type": "display_data"
    }
   ],
   "source": [
    "plt.hist(bpdens, bins=400);"
   ]
  },
  {
   "cell_type": "markdown",
   "id": "97e77ea9",
   "metadata": {},
   "source": [
    "# slime density at the largest halos in the BP sims"
   ]
  },
  {
   "cell_type": "code",
   "execution_count": 108,
   "metadata": {},
   "outputs": [
    {
     "data": {
      "text/plain": [
       "M200b              15.160\n",
       "density_CIC    256598.890\n",
       "x_dist           -111.501\n",
       "y_dist             61.480\n",
       "z_dist            136.684\n",
       "Name: 2510282, dtype: float64"
      ]
     },
     "execution_count": 108,
     "metadata": {},
     "output_type": "execute_result"
    }
   ],
   "source": [
    "bphalos.loc[bphalos.M200b.idxmax()]"
   ]
  },
  {
   "cell_type": "code",
   "execution_count": 111,
   "metadata": {},
   "outputs": [
    {
     "data": {
      "text/plain": [
       "15.99941950523551"
      ]
     },
     "execution_count": 111,
     "metadata": {},
     "output_type": "execute_result"
    }
   ],
   "source": [
    "sdss['mhalo'].max()"
   ]
  },
  {
   "cell_type": "code",
   "execution_count": 114,
   "id": "6c2b9d2b",
   "metadata": {},
   "outputs": [
    {
     "data": {
      "text/plain": [
       "3.4424798"
      ]
     },
     "execution_count": 114,
     "metadata": {},
     "output_type": "execute_result"
    }
   ],
   "source": [
    "xcart = bphalos.loc[bphalos.M200b.idxmax()].x_dist\n",
    "ycart = bphalos.loc[bphalos.M200b.idxmax()].y_dist\n",
    "zcart = bphalos.loc[bphalos.M200b.idxmax()].z_dist\n",
    "xidx, yidx, zidx = bpslime.cartesian_to_idx(xcart, ycart, zcart)\n",
    "slimedens = bpslime.data[xidx, yidx, zidx]\n",
    "slimedens"
   ]
  },
  {
   "cell_type": "code",
   "execution_count": 115,
   "metadata": {},
   "outputs": [
    {
     "data": {
      "text/plain": [
       "3.495025029285177"
      ]
     },
     "execution_count": 115,
     "metadata": {},
     "output_type": "execute_result"
    }
   ],
   "source": [
    "logrhom[xidx, yidx, zidx]"
   ]
  },
  {
   "cell_type": "markdown",
   "id": "8f8bb356",
   "metadata": {},
   "source": [
    "# kernel density at that location"
   ]
  },
  {
   "cell_type": "code",
   "execution_count": 44,
   "id": "a8bb8353",
   "metadata": {},
   "outputs": [
    {
     "data": {
      "text/plain": [
       "5.409254773364251"
      ]
     },
     "execution_count": 44,
     "metadata": {},
     "output_type": "execute_result"
    }
   ],
   "source": [
    "kernel_density = bphalos.loc[bphalos.M200b.idxmax()].density_CIC\n",
    "np.log10(kernel_density)"
   ]
  },
  {
   "cell_type": "markdown",
   "id": "1294a6f1",
   "metadata": {},
   "source": [
    "# bp density at this location"
   ]
  },
  {
   "cell_type": "code",
   "execution_count": 48,
   "id": "26a5b7a5",
   "metadata": {},
   "outputs": [
    {
     "data": {
      "text/plain": [
       "3.495025029285177"
      ]
     },
     "execution_count": 48,
     "metadata": {},
     "output_type": "execute_result"
    }
   ],
   "source": [
    "bpdense = logrhom[xidx, yidx, zidx]\n",
    "bpdense"
   ]
  },
  {
   "cell_type": "markdown",
   "id": "f3e61b27",
   "metadata": {},
   "source": [
    "# coma density from sdss-slime fits\n"
   ]
  },
  {
   "cell_type": "code",
   "execution_count": 130,
   "id": "f98a3162",
   "metadata": {},
   "outputs": [
    {
     "name": "stdout",
     "output_type": "stream",
     "text": [
      "(624, 1024, 608) (0, 1, 2)\n",
      "(608, 1024, 624)\n",
      "WARNING: Must provide a stretch and shift to standardize\n"
     ]
    }
   ],
   "source": [
    "sldat = pu.get_slime(sdss_slime_dir,\n",
    "                         datafile=sdss_datafile,\n",
    "                         dtype=np.float32,\n",
    "                         standardize=True, stretch=0.61092954, shift=0.42016807)"
   ]
  },
  {
   "cell_type": "code",
   "execution_count": 129,
   "id": "d5531719",
   "metadata": {},
   "outputs": [
    {
     "data": {
      "text/plain": [
       "(4.761316, 4.8734574)"
      ]
     },
     "execution_count": 129,
     "metadata": {},
     "output_type": "execute_result"
    }
   ],
   "source": [
    "abelcoords = SkyCoord(\"11h44m36.5s +19d45m32\", unit=(u.hourangle, u.deg))\n",
    "comacoords = SkyCoord(\"12h59m48.7s +27d58m50s\", unit=(u.hourangle, u.deg))\n",
    "\n",
    "abel_ra = abelcoords.ra.deg\n",
    "abel_dec = abelcoords.dec.deg\n",
    "abel_z = 0.0217\n",
    "\n",
    "coma_ra = comacoords.ra.deg\n",
    "coma_dec = comacoords.dec.deg\n",
    "coma_z = 0.023100\n",
    "\n",
    "abel_dens = sldat.sky_to_data(abel_ra, abel_dec, abel_z)\n",
    "coma_dens = sldat.sky_to_data(coma_ra, coma_dec, coma_z)\n",
    "\n",
    "abel_dens, coma_dens"
   ]
  },
  {
   "cell_type": "markdown",
   "id": "da923f73",
   "metadata": {},
   "source": [
    "# check to see what the density is at the location of the most massive galaxy in sdss (should be the same?)"
   ]
  },
  {
   "cell_type": "code",
   "execution_count": 51,
   "id": "82be27a9",
   "metadata": {},
   "outputs": [],
   "source": [
    "sdss = pd.read_csv('../data/sdssGalaxy_rsdCorr_dbscan_e2p0ms3_dz0p001_m10p0.csv')"
   ]
  },
  {
   "cell_type": "code",
   "execution_count": 52,
   "id": "0b75a555",
   "metadata": {},
   "outputs": [
    {
     "data": {
      "text/plain": [
       "(194.95291666666662,\n",
       " 27.980555555555554,\n",
       " 0.0231,\n",
       " 176.1520833333333,\n",
       " 19.75888888888889,\n",
       " 0.0217)"
      ]
     },
     "execution_count": 52,
     "metadata": {},
     "output_type": "execute_result"
    }
   ],
   "source": [
    "coma_ra, coma_dec, coma_z, abel_ra, abel_dec, abel_z"
   ]
  },
  {
   "cell_type": "code",
   "execution_count": 112,
   "id": "639d8155",
   "metadata": {},
   "outputs": [
    {
     "data": {
      "text/plain": [
       "mstars        12.093392\n",
       "RA           208.621911\n",
       "DEC            4.992535\n",
       "Z              0.076129\n",
       "NSAID     153759.000000\n",
       "mhalo         15.999420\n",
       "zadopt         0.076129\n",
       "newz           0.000000\n",
       "x_cart      -311.381887\n",
       "y_cart      -169.925423\n",
       "z_cart        30.988278\n",
       "Name: 80701, dtype: float64"
      ]
     },
     "execution_count": 112,
     "metadata": {},
     "output_type": "execute_result"
    }
   ],
   "source": [
    "# most massive galaxy\n",
    "sdss.loc[sdss.mhalo.idxmax()]"
   ]
  },
  {
   "cell_type": "code",
   "execution_count": 113,
   "id": "b9d7a7e1",
   "metadata": {},
   "outputs": [
    {
     "data": {
      "text/plain": [
       "3.384174"
      ]
     },
     "execution_count": 113,
     "metadata": {},
     "output_type": "execute_result"
    }
   ],
   "source": [
    "maxRA = sdss.loc[sdss.mhalo.idxmax()].RA\n",
    "maxDEC = sdss.loc[sdss.mhalo.idxmax()].DEC\n",
    "maxz = sdss.loc[sdss.mhalo.idxmax()].zadopt\n",
    "sldat.sky_to_data(maxRA, maxDEC, maxz)"
   ]
  },
  {
   "cell_type": "code",
   "execution_count": 55,
   "id": "41368e0f",
   "metadata": {},
   "outputs": [
    {
     "data": {
      "text/plain": [
       "3.384174"
      ]
     },
     "execution_count": 55,
     "metadata": {},
     "output_type": "execute_result"
    }
   ],
   "source": [
    "maxRA = sdss.loc[sdss.mhalo.idxmax()].RA\n",
    "maxDEC = sdss.loc[sdss.mhalo.idxmax()].DEC\n",
    "maxz = sdss.loc[sdss.mhalo.idxmax()].zadopt\n",
    "sldat.sky_to_data(maxRA, maxDEC, maxz)"
   ]
  },
  {
   "cell_type": "code",
   "execution_count": 56,
   "id": "6ed90c23",
   "metadata": {},
   "outputs": [
    {
     "data": {
      "text/plain": [
       "(array([162, 184, 190, 203, 225, 248, 404, 426, 455, 493, 493, 497, 502,\n",
       "        532, 543, 543, 543, 544, 544, 544, 544, 544, 545, 546, 546, 546,\n",
       "        546, 547, 547, 547, 547, 548, 566]),\n",
       " array([553, 504, 623, 601, 547, 423, 310, 666, 648, 565, 630, 358, 656,\n",
       "        470, 628, 628, 629, 627, 628, 628, 629, 629, 590, 589, 590, 590,\n",
       "        591, 589, 590, 590, 591, 590, 445]),\n",
       " array([217, 135, 110, 121, 120, 123, 345, 240, 164, 228, 354, 225, 195,\n",
       "        130, 149, 150, 150, 150, 149, 150, 149, 150, 170, 170, 169, 170,\n",
       "        169, 170, 169, 170, 169, 169, 170]))"
      ]
     },
     "execution_count": 56,
     "metadata": {},
     "output_type": "execute_result"
    }
   ],
   "source": [
    "np.where(sldat.data == sldat.data.max())"
   ]
  },
  {
   "cell_type": "markdown",
   "id": "5535edad",
   "metadata": {},
   "source": [
    "# check the mapping to see if its producing correct values"
   ]
  },
  {
   "cell_type": "code",
   "execution_count": 57,
   "id": "4b462c6a",
   "metadata": {},
   "outputs": [
    {
     "data": {
      "image/png": "[encoded data removed]",
      "text/plain": [
       "<Figure size 432x288 with 1 Axes>"
      ]
     },
     "metadata": {
      "image/png": {
       "height": 273,
       "width": 424
      },
      "needs_background": "light"
     },
     "output_type": "display_data"
    }
   ],
   "source": [
    "smpackage = pickle.load(open('mapping_BP_z0p0_1sigma.pick','rb'))\n",
    "smrhobins = smpackage['smrhobins']\n",
    "binsize = 0.1\n",
    "midbins = smrhobins[:-1]+binsize/2.\n",
    "with open('interpolator_z0p0.pkl', 'rb') as f:\n",
    "    mapping_function = pickle.load(f)\n",
    "plt.plot(midbins, mapping_function(midbins), '-', lw=1, alpha=0.7)\n",
    "plt.xlabel('log10 sm dens')\n",
    "plt.ylabel('log10 matter dens');"
   ]
  },
  {
   "cell_type": "markdown",
   "id": "9718f0b8",
   "metadata": {},
   "source": [
    "# map coma density"
   ]
  },
  {
   "cell_type": "code",
   "execution_count": 58,
   "id": "0e574269",
   "metadata": {},
   "outputs": [
    {
     "data": {
      "text/plain": [
       "(3.538825, array([nan]))"
      ]
     },
     "execution_count": 58,
     "metadata": {},
     "output_type": "execute_result"
    }
   ],
   "source": [
    "coma_dens, mapping_function(np.array([coma_dens]))"
   ]
  },
  {
   "cell_type": "code",
   "execution_count": 59,
   "id": "3e2a76c9",
   "metadata": {},
   "outputs": [
    {
     "data": {
      "text/plain": [
       "array(nan)"
      ]
     },
     "execution_count": 59,
     "metadata": {},
     "output_type": "execute_result"
    }
   ],
   "source": [
    "mapping_function(3.5)"
   ]
  },
  {
   "cell_type": "code",
   "execution_count": null,
   "id": "8097f43e",
   "metadata": {},
   "outputs": [],
   "source": []
  }
 ],
 "metadata": {
  "interpreter": {
   "hash": "0c50aadaae22ca3edcb7dcdb26ddd57a7809ef554295fcfc563e8b7fd04b9644"
  },
  "kernelspec": {
   "display_name": "Python 3.8.8 64-bit ('base': conda)",
   "name": "python3"
  },
  "language_info": {
   "codemirror_mode": {
    "name": "ipython",
    "version": 3
   },
   "file_extension": ".py",
   "mimetype": "text/x-python",
   "name": "python",
   "nbconvert_exporter": "python",
   "pygments_lexer": "ipython3",
   "version": "3.8.8"
  }
 },
 "nbformat": 4,
 "nbformat_minor": 5
}
