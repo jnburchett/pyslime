{
 "cells": [
  {
   "cell_type": "markdown",
   "id": "dbdd7469",
   "metadata": {},
   "source": [
    "# Verify fits using the halo catolog and the densities of clusters (ie. Coma Cluster) and compare to the SDSS fits. "
   ]
  },
  {
   "cell_type": "code",
   "execution_count": 1,
   "id": "a6bedaa4",
   "metadata": {},
   "outputs": [],
   "source": [
    "from matplotlib import pyplot as plt\n",
    "import numpy as np\n",
    "from pyslime import slime\n",
    "from pyslime import utils as pu\n",
    "from pyslime.pipeline import pipelineUtils as ppu\n",
    "import glob\n",
    "import pandas as pd\n",
    "import pickle\n",
    "\n",
    "from astropy.table import Table, vstack\n",
    "from astropy.cosmology import Planck15 as cosmo\n",
    "from astropy.coordinates import SkyCoord\n",
    "import astropy.units as u\n",
    "\n",
    "%matplotlib inline\n",
    "%load_ext autoreload\n",
    "%autoreload 2\n",
    "%config InlineBackend.figure_format = \"retina\"\n",
    "\n",
    "plt.rcParams['font.serif'] = 'Times New Roman'\n",
    "plt.rcParams['font.size'] = 16"
   ]
  },
  {
   "cell_type": "markdown",
   "id": "30533161",
   "metadata": {},
   "source": [
    "### bp halo file"
   ]
  },
  {
   "cell_type": "code",
   "execution_count": 2,
   "id": "0da4ef84",
   "metadata": {},
   "outputs": [],
   "source": [
    "bphalofile =  '/Users/mwilde/Dropbox/slime-mold/data/Bolshoi-Planck/bpdattrim_noDistCut.csv'\n",
    "bphalos = pd.read_csv(bphalofile)"
   ]
  },
  {
   "cell_type": "code",
   "execution_count": 3,
   "id": "ccb49e7d",
   "metadata": {},
   "outputs": [
    {
     "data": {
      "text/plain": [
       "(15.16, 5.409254773364251)"
      ]
     },
     "execution_count": 3,
     "metadata": {},
     "output_type": "execute_result"
    }
   ],
   "source": [
    "bphalos.M200b.max(), np.log10(bphalos.density_CIC.max())"
   ]
  },
  {
   "cell_type": "code",
   "execution_count": 4,
   "id": "8eff9e83",
   "metadata": {},
   "outputs": [
    {
     "data": {
      "text/html": [
       "<div>\n",
       "<style scoped>\n",
       "    .dataframe tbody tr th:only-of-type {\n",
       "        vertical-align: middle;\n",
       "    }\n",
       "\n",
       "    .dataframe tbody tr th {\n",
       "        vertical-align: top;\n",
       "    }\n",
       "\n",
       "    .dataframe thead th {\n",
       "        text-align: right;\n",
       "    }\n",
       "</style>\n",
       "<table border=\"1\" class=\"dataframe\">\n",
       "  <thead>\n",
       "    <tr style=\"text-align: right;\">\n",
       "      <th></th>\n",
       "      <th>M200b</th>\n",
       "      <th>density_CIC</th>\n",
       "      <th>x_dist</th>\n",
       "      <th>y_dist</th>\n",
       "      <th>z_dist</th>\n",
       "    </tr>\n",
       "  </thead>\n",
       "  <tbody>\n",
       "    <tr>\n",
       "      <th>116846</th>\n",
       "      <td>15.087</td>\n",
       "      <td>213803.72</td>\n",
       "      <td>-158.749</td>\n",
       "      <td>-134.504</td>\n",
       "      <td>225.407</td>\n",
       "    </tr>\n",
       "    <tr>\n",
       "      <th>2510282</th>\n",
       "      <td>15.160</td>\n",
       "      <td>256598.89</td>\n",
       "      <td>-111.501</td>\n",
       "      <td>61.480</td>\n",
       "      <td>136.684</td>\n",
       "    </tr>\n",
       "  </tbody>\n",
       "</table>\n",
       "</div>"
      ],
      "text/plain": [
       "          M200b  density_CIC   x_dist   y_dist   z_dist\n",
       "116846   15.087    213803.72 -158.749 -134.504  225.407\n",
       "2510282  15.160    256598.89 -111.501   61.480  136.684"
      ]
     },
     "execution_count": 4,
     "metadata": {},
     "output_type": "execute_result"
    }
   ],
   "source": [
    "bphalos.query('M200b > 15')"
   ]
  },
  {
   "cell_type": "code",
   "execution_count": 5,
   "id": "85fddd08",
   "metadata": {},
   "outputs": [],
   "source": [
    "xcart = bphalos.loc[bphalos.M200b.idxmax()].x_dist\n",
    "ycart = bphalos.loc[bphalos.M200b.idxmax()].y_dist\n",
    "zcart = bphalos.loc[bphalos.M200b.idxmax()].z_dist"
   ]
  },
  {
   "cell_type": "code",
   "execution_count": 23,
   "id": "5d996d13",
   "metadata": {},
   "outputs": [
    {
     "data": {
      "text/plain": [
       "(0.0, 100000.0)"
      ]
     },
     "execution_count": 23,
     "metadata": {},
     "output_type": "execute_result"
    },
    {
     "data": {
      "image/png": "[encoded data removed]",
      "text/plain": [
       "<Figure size 432x288 with 1 Axes>"
      ]
     },
     "metadata": {
      "image/png": {
       "height": 260,
       "width": 427
      },
      "needs_background": "light"
     },
     "output_type": "display_data"
    }
   ],
   "source": [
    "kwargs = {'histtype':'step', 'density':False}\n",
    "bphalos.M200b.hist(bins=40, **kwargs);\n",
    "sdss = pd.read_csv('/Users/mwilde/Dropbox/slime-mold/data/sdssGalaxy_rsdCorr_dbscan_e2p0ms3_dz0p001_m10p0.csv')\n",
    "sdss.mhalo.hist(bins=80, **kwargs);\n",
    "# sdss.mstars.hist(bins=80, **kwargs);\n",
    "plt.xlim(11,16)\n",
    "plt.ylim(0,0.1e6)"
   ]
  },
  {
   "cell_type": "code",
   "execution_count": 7,
   "metadata": {},
   "outputs": [],
   "source": [
    "sdss = pd.read_csv('/Users/mwilde/Dropbox/slime-mold/data/sdssGalaxy_rsdCorr_dbscan_e2p0ms3_dz0p001_m10p0.csv')"
   ]
  },
  {
   "cell_type": "markdown",
   "id": "c24cc1be",
   "metadata": {},
   "source": [
    "### coma cluster mass  $M_{200} \\sim 10^{15} M_{\\odot}$ \n",
    "https://iopscience.iop.org/article/10.1086/523101/pdf"
   ]
  },
  {
   "cell_type": "markdown",
   "id": "73b4dc31",
   "metadata": {},
   "source": [
    "# load in the bp sim to query density at location of large halos"
   ]
  },
  {
   "cell_type": "code",
   "execution_count": 4,
   "id": "513e1811",
   "metadata": {},
   "outputs": [],
   "source": [
    "logrhom = ppu.get_sim_data('/Users/mwilde/Dropbox/slime-mold/data/final_data/BP_0214_densities_1024_0.bin')\n",
    "\n"
   ]
  },
  {
   "cell_type": "markdown",
   "id": "a8aff841",
   "metadata": {},
   "source": [
    "# load in bp-slime to compare"
   ]
  },
  {
   "cell_type": "code",
   "execution_count": 4,
   "id": "ce3a0401",
   "metadata": {},
   "outputs": [
    {
     "name": "stdout",
     "output_type": "stream",
     "text": [
      "(720, 720, 720) (0, 1, 2)\n",
      "(720, 720, 720)\n"
     ]
    },
    {
     "name": "stderr",
     "output_type": "stream",
     "text": [
      "/Users/mwilde/python/pyslime/pyslime/utils.py:328: RuntimeWarning: divide by zero encountered in log10\n",
      "  bpslime.data = np.log10(bpslime.data)\n"
     ]
    }
   ],
   "source": [
    "smdir = '../data/BP_z=0p0/'\n",
    "bpslime_dir = '/Volumes/GoogleDrive/My Drive/SlimeMold/2021-10-12/BP_z=0_float32'\n",
    "bpslime_datafile='trace_BP_z=0_float32.bin'\n",
    "sdss_slime_dir = '/Volumes/GoogleDrive/My Drive/SlimeMold/2021-10-12/SDSS_z=0.1_float32'\n",
    "sdss_datafile = 'trace_SDSS_z=0.1_float32.bin'\n",
    "\n",
    "# bpslime_old = get_slime(smdir)\n",
    "bpslime = pu.get_slime(bpslime_dir,\n",
    "                         datafile=bpslime_datafile,\n",
    "                         dtype=np.float32,\n",
    "                         standardize=False)"
   ]
  },
  {
   "cell_type": "code",
   "execution_count": 11,
   "id": "961ba246",
   "metadata": {},
   "outputs": [],
   "source": [
    "xidx, yidx, zidx = bpslime.cartesian_to_idx(np.array(bphalos.x_dist), np.array(bphalos.y_dist), np.array(bphalos.z_dist))\n",
    "# xcut, ycut, zcut = [(idx < 1000) & (idx>24) for idx in (xidx, yidx, zidx)]\n",
    "slimedens = bpslime.data[xidx, yidx, zidx]"
   ]
  },
  {
   "cell_type": "code",
   "execution_count": 57,
   "metadata": {},
   "outputs": [],
   "source": [
    "xdist, ydist, zdist = pu.idx_to_cartesian(\n",
    "            xidx, yidx, zidx, slime=bpslime\n",
    "        )\n",
    "\n",
    "bpidx_x, bpidx_y, bpidx_z = ppu.bprho_dist_to_idx(xdist, ydist, zdist)dd"
   ]
  },
  {
   "cell_type": "markdown",
   "metadata": {},
   "source": [
    "# BP-slime density at the location of each halo"
   ]
  },
  {
   "cell_type": "code",
   "execution_count": 63,
   "id": "a1091dc6",
   "metadata": {},
   "outputs": [
    {
     "data": {
      "image/png": "[encoded data removed]",
      "text/plain": [
       "<Figure size 432x288 with 1 Axes>"
      ]
     },
     "metadata": {
      "image/png": {
       "height": 256,
       "width": 407
      },
      "needs_background": "light"
     },
     "output_type": "display_data"
    }
   ],
   "source": [
    "bins = np.linspace(0, 4, 500)\n",
    "plt.hist(slimedens, bins=bins);"
   ]
  },
  {
   "cell_type": "code",
   "execution_count": 59,
   "id": "759c9c1e",
   "metadata": {},
   "outputs": [],
   "source": [
    "bpdens = logrhom[bpidx_x, bpidx_y, bpidx_z]"
   ]
  },
  {
   "cell_type": "markdown",
   "metadata": {},
   "source": [
    "# simulation density at the location of the halos"
   ]
  },
  {
   "cell_type": "code",
   "execution_count": 60,
   "id": "5acb4e91",
   "metadata": {},
   "outputs": [
    {
     "data": {
      "image/png": "[encoded data removed]",
      "text/plain": [
       "<Figure size 432x288 with 1 Axes>"
      ]
     },
     "metadata": {
      "image/png": {
       "height": 254,
       "width": 407
      },
      "needs_background": "light"
     },
     "output_type": "display_data"
    }
   ],
   "source": [
    "plt.hist(bpdens, bins=400);"
   ]
  },
  {
   "cell_type": "markdown",
   "id": "97e77ea9",
   "metadata": {},
   "source": [
    "# slime density at the largest halos in the BP sims"
   ]
  },
  {
   "cell_type": "code",
   "execution_count": 64,
   "metadata": {},
   "outputs": [
    {
     "data": {
      "text/plain": [
       "M200b              15.160\n",
       "density_CIC    256598.890\n",
       "x_dist           -111.501\n",
       "y_dist             61.480\n",
       "z_dist            136.684\n",
       "Name: 2510282, dtype: float64"
      ]
     },
     "execution_count": 64,
     "metadata": {},
     "output_type": "execute_result"
    }
   ],
   "source": [
    "bphalos.loc[bphalos.M200b.idxmax()]"
   ]
  },
  {
   "cell_type": "code",
   "execution_count": 65,
   "id": "6c2b9d2b",
   "metadata": {},
   "outputs": [
    {
     "data": {
      "text/plain": [
       "3.9503183"
      ]
     },
     "execution_count": 65,
     "metadata": {},
     "output_type": "execute_result"
    }
   ],
   "source": [
    "xcart = bphalos.loc[bphalos.M200b.idxmax()].x_dist\n",
    "ycart = bphalos.loc[bphalos.M200b.idxmax()].y_dist\n",
    "zcart = bphalos.loc[bphalos.M200b.idxmax()].z_dist\n",
    "xidx, yidx, zidx = bpslime.cartesian_to_idx(xcart, ycart, zcart)\n",
    "slimedens = bpslime.data[xidx, yidx, zidx]\n",
    "slimedens"
   ]
  },
  {
   "cell_type": "markdown",
   "id": "8f8bb356",
   "metadata": {},
   "source": [
    "# kernel density at that location"
   ]
  },
  {
   "cell_type": "code",
   "execution_count": 67,
   "id": "a8bb8353",
   "metadata": {},
   "outputs": [
    {
     "data": {
      "text/plain": [
       "5.409254773364251"
      ]
     },
     "execution_count": 67,
     "metadata": {},
     "output_type": "execute_result"
    }
   ],
   "source": [
    "kernel_density = bphalos.loc[bphalos.M200b.idxmax()].density_CIC\n",
    "np.log10(kernel_density)"
   ]
  },
  {
   "cell_type": "markdown",
   "id": "1294a6f1",
   "metadata": {},
   "source": [
    "# bp density at this location"
   ]
  },
  {
   "cell_type": "code",
   "execution_count": 70,
   "id": "26a5b7a5",
   "metadata": {},
   "outputs": [
    {
     "data": {
      "text/plain": [
       "3.454229280355093"
      ]
     },
     "execution_count": 70,
     "metadata": {},
     "output_type": "execute_result"
    }
   ],
   "source": [
    "xdist, ydist, zdist = pu.idx_to_cartesian(\n",
    "            xidx, yidx, zidx, slime=bpslime\n",
    "        )\n",
    "\n",
    "bpidx_x, bpidx_y, bpidx_z = ppu.bprho_dist_to_idx(xdist, ydist, zdist)\n",
    "bpdense = logrhom[bpidx_x, bpidx_y, bpidx_z]\n",
    "bpdense"
   ]
  },
  {
   "cell_type": "markdown",
   "id": "f3e61b27",
   "metadata": {},
   "source": [
    "# coma density from sdss-slime fits\n"
   ]
  },
  {
   "cell_type": "code",
   "execution_count": 6,
   "metadata": {},
   "outputs": [
    {
     "name": "stdout",
     "output_type": "stream",
     "text": [
      "(624, 1024, 608) (0, 1, 2)\n",
      "(608, 1024, 624)\n"
     ]
    },
    {
     "name": "stderr",
     "output_type": "stream",
     "text": [
      "/Users/mwilde/python/pyslime/pyslime/utils.py:328: RuntimeWarning: divide by zero encountered in log10\n",
      "  bpslime.data = np.log10(bpslime.data)\n"
     ]
    },
    {
     "name": "stdout",
     "output_type": "stream",
     "text": [
      "(720, 720, 720) (0, 1, 2)\n",
      "(720, 720, 720)\n"
     ]
    }
   ],
   "source": [
    "smdir = '../data/BP_z=0p0/'\n",
    "bpslime_dir = '/Volumes/GoogleDrive/My Drive/SlimeMold/2021-10-12/BP_z=0_float32'\n",
    "bpslime_datafile='trace_BP_z=0_float32.bin'\n",
    "sdss_slime_dir = '/Volumes/GoogleDrive/My Drive/SlimeMold/2021-10-12/SDSS_z=0.1_float32'\n",
    "sdss_datafile = 'trace_SDSS_z=0.1_float32.bin'\n",
    "\n",
    "nostd_sdss_slime32 = pu.get_slime(sdss_slime_dir, datafile=sdss_datafile, dtype=np.float32, standardize=False)\n",
    "nostd_bpslime32 = pu.get_slime(bpslime_dir, datafile=bpslime_datafile, dtype=np.float32, standardize=False)\n",
    "\n",
    "nostd_flatbpslime = nostd_bpslime32.data.flatten()\n",
    "nostd_flatsdssslime = nostd_sdss_slime32.data.flatten()\n",
    "\n",
    "bins = np.linspace(-2, 4, 1000)\n",
    "uweights, uvalues_edges = np.histogram(nostd_flatbpslime, bins=bins)\n",
    "vweights, vvalues_edges = np.histogram(nostd_flatsdssslime, bins=bins)\n",
    "\n",
    "# find the centers of the bins\n",
    "uvalues = 0.5*uvalues_edges[:-1] + 0.5*uvalues_edges[1:]\n",
    "vvalues = 0.5*vvalues_edges[:-1] + 0.5*vvalues_edges[1:]\n"
   ]
  },
  {
   "cell_type": "code",
   "execution_count": 12,
   "metadata": {},
   "outputs": [],
   "source": [
    "# density cut\n",
    "dens_thresh = 0.5\n",
    "\n",
    "# since we are fixing the bp (u_values)\n",
    "denscut = uvalues > dens_thresh\n",
    "uweights_cut = uweights[denscut]\n",
    "uvalues_cut = uvalues[denscut]\n",
    "\n",
    "vdenscut = vvalues > -10\n",
    "vweights_cut = vweights[vdenscut]\n",
    "vvalues_cut = vvalues[vdenscut]"
   ]
  },
  {
   "cell_type": "code",
   "execution_count": 13,
   "metadata": {},
   "outputs": [],
   "source": [
    "from pyslime.pipeline import pipelineUtils as ppu\n",
    "\n",
    "stretch, shift = ppu.calc_stretch_shift(uvalues_cut,\n",
    "    vvalues_cut,\n",
    "    uweights_cut,\n",
    "    vweights_cut)"
   ]
  },
  {
   "cell_type": "code",
   "execution_count": 14,
   "metadata": {},
   "outputs": [
    {
     "data": {
      "text/plain": [
       "(array([0.61092954]), array([0.42016807]))"
      ]
     },
     "execution_count": 14,
     "metadata": {},
     "output_type": "execute_result"
    }
   ],
   "source": [
    "stretch, shift"
   ]
  },
  {
   "cell_type": "code",
   "execution_count": 15,
   "id": "f98a3162",
   "metadata": {},
   "outputs": [
    {
     "name": "stdout",
     "output_type": "stream",
     "text": [
      "(624, 1024, 608) (0, 1, 2)\n",
      "(608, 1024, 624)\n"
     ]
    },
    {
     "name": "stderr",
     "output_type": "stream",
     "text": [
      "/Users/mwilde/python/pyslime/pyslime/utils.py:328: RuntimeWarning: divide by zero encountered in log10\n",
      "  bpslime.data = np.log10(bpslime.data)\n"
     ]
    }
   ],
   "source": [
    "sldat = pu.get_slime(sdss_slime_dir,\n",
    "                         datafile=sdss_datafile,\n",
    "                         dtype=np.float32,\n",
    "                         standardize=True, stretch=stretch, shift=shift)"
   ]
  },
  {
   "cell_type": "code",
   "execution_count": 16,
   "id": "d5531719",
   "metadata": {},
   "outputs": [
    {
     "data": {
      "text/plain": [
       "(3.3289965624364406, 3.3975071843883824)"
      ]
     },
     "execution_count": 16,
     "metadata": {},
     "output_type": "execute_result"
    }
   ],
   "source": [
    "abelcoords = SkyCoord(\"11h44m36.5s +19d45m32\", unit=(u.hourangle, u.deg))\n",
    "comacoords = SkyCoord(\"12h59m48.7s +27d58m50s\", unit=(u.hourangle, u.deg))\n",
    "\n",
    "abel_ra = abelcoords.ra.deg\n",
    "abel_dec = abelcoords.dec.deg\n",
    "abel_z = 0.0217\n",
    "\n",
    "coma_ra = comacoords.ra.deg\n",
    "coma_dec = comacoords.dec.deg\n",
    "coma_z = 0.023100\n",
    "\n",
    "abel_dens = sldat.sky_to_data(abel_ra, abel_dec, abel_z)\n",
    "coma_dens = sldat.sky_to_data(coma_ra, coma_dec, coma_z)\n",
    "\n",
    "abel_dens, coma_dens"
   ]
  },
  {
   "cell_type": "code",
   "execution_count": 75,
   "metadata": {},
   "outputs": [
    {
     "data": {
      "text/plain": [
       "4.9715276"
      ]
     },
     "execution_count": 75,
     "metadata": {},
     "output_type": "execute_result"
    }
   ],
   "source": [
    "sldat.data.max()"
   ]
  },
  {
   "cell_type": "markdown",
   "id": "da923f73",
   "metadata": {},
   "source": [
    "# check to see what the density is at the location of the most massive galaxy in sdss (should be the same?)"
   ]
  },
  {
   "cell_type": "code",
   "execution_count": 79,
   "id": "82be27a9",
   "metadata": {},
   "outputs": [],
   "source": [
    "sdss = pd.read_csv('/Users/mwilde/Dropbox/slime-mold/data/sdssGalaxy_rsdCorr_dbscan_e2p0ms3_dz0p001_m10p0.csv')"
   ]
  },
  {
   "cell_type": "code",
   "execution_count": null,
   "metadata": {},
   "outputs": [],
   "source": []
  },
  {
   "cell_type": "code",
   "execution_count": 80,
   "id": "0b75a555",
   "metadata": {},
   "outputs": [
    {
     "data": {
      "text/plain": [
       "(194.95291666666662,\n",
       " 27.980555555555554,\n",
       " 0.0231,\n",
       " 176.1520833333333,\n",
       " 19.75888888888889,\n",
       " 0.0217)"
      ]
     },
     "execution_count": 80,
     "metadata": {},
     "output_type": "execute_result"
    }
   ],
   "source": [
    "coma_ra, coma_dec, coma_z, abel_ra, abel_dec, abel_z"
   ]
  },
  {
   "cell_type": "code",
   "execution_count": 81,
   "id": "639d8155",
   "metadata": {},
   "outputs": [
    {
     "data": {
      "text/plain": [
       "mstars        12.093392\n",
       "RA           208.621911\n",
       "DEC            4.992535\n",
       "Z              0.076129\n",
       "NSAID     153759.000000\n",
       "mhalo         15.999420\n",
       "zadopt         0.076129\n",
       "newz           0.000000\n",
       "x_cart      -311.381887\n",
       "y_cart      -169.925423\n",
       "z_cart        30.988278\n",
       "Name: 80701, dtype: float64"
      ]
     },
     "execution_count": 81,
     "metadata": {},
     "output_type": "execute_result"
    }
   ],
   "source": [
    "# most massive galaxy\n",
    "sdss.loc[sdss.mhalo.idxmax()]"
   ]
  },
  {
   "cell_type": "code",
   "execution_count": 82,
   "id": "b9d7a7e1",
   "metadata": {},
   "outputs": [
    {
     "data": {
      "text/plain": [
       "4.218907"
      ]
     },
     "execution_count": 82,
     "metadata": {},
     "output_type": "execute_result"
    }
   ],
   "source": [
    "maxRA = sdss.loc[sdss.mhalo.idxmax()].RA\n",
    "maxDEC = sdss.loc[sdss.mhalo.idxmax()].DEC\n",
    "maxz = sdss.loc[sdss.mhalo.idxmax()].zadopt\n",
    "sldat.sky_to_data(maxRA, maxDEC, maxz)"
   ]
  },
  {
   "cell_type": "code",
   "execution_count": 83,
   "id": "41368e0f",
   "metadata": {},
   "outputs": [
    {
     "data": {
      "text/plain": [
       "4.218907"
      ]
     },
     "execution_count": 83,
     "metadata": {},
     "output_type": "execute_result"
    }
   ],
   "source": [
    "maxRA = sdss.loc[sdss.mhalo.idxmax()].RA\n",
    "maxDEC = sdss.loc[sdss.mhalo.idxmax()].DEC\n",
    "maxz = sdss.loc[sdss.mhalo.idxmax()].zadopt\n",
    "sldat.sky_to_data(maxRA, maxDEC, maxz)"
   ]
  },
  {
   "cell_type": "code",
   "execution_count": 84,
   "id": "6ed90c23",
   "metadata": {},
   "outputs": [
    {
     "data": {
      "text/plain": [
       "(array([467]), array([504]), array([145]))"
      ]
     },
     "execution_count": 84,
     "metadata": {},
     "output_type": "execute_result"
    }
   ],
   "source": [
    "np.where(sldat.data == sldat.data.max())"
   ]
  },
  {
   "cell_type": "markdown",
   "id": "5535edad",
   "metadata": {},
   "source": [
    "# check the mapping to see if its producing correct values"
   ]
  },
  {
   "cell_type": "code",
   "execution_count": 87,
   "id": "4b462c6a",
   "metadata": {},
   "outputs": [
    {
     "ename": "FileNotFoundError",
     "evalue": "[Errno 2] No such file or directory: '../data/interpolator_z0p0.pkl'",
     "output_type": "error",
     "traceback": [
      "\u001b[0;31m---------------------------------------------------------------------------\u001b[0m",
      "\u001b[0;31mFileNotFoundError\u001b[0m                         Traceback (most recent call last)",
      "\u001b[0;32m<ipython-input-87-64a5a858c3b4>\u001b[0m in \u001b[0;36m<module>\u001b[0;34m\u001b[0m\n\u001b[1;32m      3\u001b[0m \u001b[0mbinsize\u001b[0m \u001b[0;34m=\u001b[0m \u001b[0;36m0.1\u001b[0m\u001b[0;34m\u001b[0m\u001b[0;34m\u001b[0m\u001b[0m\n\u001b[1;32m      4\u001b[0m \u001b[0mmidbins\u001b[0m \u001b[0;34m=\u001b[0m \u001b[0msmrhobins\u001b[0m\u001b[0;34m[\u001b[0m\u001b[0;34m:\u001b[0m\u001b[0;34m-\u001b[0m\u001b[0;36m1\u001b[0m\u001b[0;34m]\u001b[0m\u001b[0;34m+\u001b[0m\u001b[0mbinsize\u001b[0m\u001b[0;34m/\u001b[0m\u001b[0;36m2.\u001b[0m\u001b[0;34m\u001b[0m\u001b[0;34m\u001b[0m\u001b[0m\n\u001b[0;32m----> 5\u001b[0;31m \u001b[0;32mwith\u001b[0m \u001b[0mopen\u001b[0m\u001b[0;34m(\u001b[0m\u001b[0;34m'../data/interpolator_z0p0.pkl'\u001b[0m\u001b[0;34m,\u001b[0m \u001b[0;34m'rb'\u001b[0m\u001b[0;34m)\u001b[0m \u001b[0;32mas\u001b[0m \u001b[0mf\u001b[0m\u001b[0;34m:\u001b[0m\u001b[0;34m\u001b[0m\u001b[0;34m\u001b[0m\u001b[0m\n\u001b[0m\u001b[1;32m      6\u001b[0m     \u001b[0mmapping_function\u001b[0m \u001b[0;34m=\u001b[0m \u001b[0mpickle\u001b[0m\u001b[0;34m.\u001b[0m\u001b[0mload\u001b[0m\u001b[0;34m(\u001b[0m\u001b[0mf\u001b[0m\u001b[0;34m)\u001b[0m\u001b[0;34m\u001b[0m\u001b[0;34m\u001b[0m\u001b[0m\n\u001b[1;32m      7\u001b[0m \u001b[0mplt\u001b[0m\u001b[0;34m.\u001b[0m\u001b[0mplot\u001b[0m\u001b[0;34m(\u001b[0m\u001b[0mmidbins\u001b[0m\u001b[0;34m,\u001b[0m \u001b[0mmapping_function\u001b[0m\u001b[0;34m(\u001b[0m\u001b[0mmidbins\u001b[0m\u001b[0;34m)\u001b[0m\u001b[0;34m,\u001b[0m \u001b[0;34m'-'\u001b[0m\u001b[0;34m,\u001b[0m \u001b[0mlw\u001b[0m\u001b[0;34m=\u001b[0m\u001b[0;36m1\u001b[0m\u001b[0;34m,\u001b[0m \u001b[0malpha\u001b[0m\u001b[0;34m=\u001b[0m\u001b[0;36m0.7\u001b[0m\u001b[0;34m)\u001b[0m\u001b[0;34m\u001b[0m\u001b[0;34m\u001b[0m\u001b[0m\n",
      "\u001b[0;31mFileNotFoundError\u001b[0m: [Errno 2] No such file or directory: '../data/interpolator_z0p0.pkl'"
     ]
    }
   ],
   "source": [
    "smpackage = pickle.load(open('../data/mapping_BP_z0p0_1sigma.pick','rb'))\n",
    "smrhobins = smpackage['smrhobins']\n",
    "binsize = 0.1\n",
    "midbins = smrhobins[:-1]+binsize/2.\n",
    "with open('../data/interpolator_z0p0.pkl', 'rb') as f:\n",
    "    mapping_function = pickle.load(f)\n",
    "plt.plot(midbins, mapping_function(midbins), '-', lw=1, alpha=0.7)\n",
    "plt.xlabel('log10 sm dens')\n",
    "plt.ylabel('log10 matter dens');"
   ]
  },
  {
   "cell_type": "markdown",
   "id": "9718f0b8",
   "metadata": {},
   "source": [
    "# map coma density"
   ]
  },
  {
   "cell_type": "code",
   "execution_count": 58,
   "id": "0e574269",
   "metadata": {},
   "outputs": [
    {
     "data": {
      "text/plain": [
       "(3.538825, array([nan]))"
      ]
     },
     "execution_count": 58,
     "metadata": {},
     "output_type": "execute_result"
    }
   ],
   "source": [
    "coma_dens, mapping_function(np.array([coma_dens]))"
   ]
  },
  {
   "cell_type": "code",
   "execution_count": 59,
   "id": "3e2a76c9",
   "metadata": {},
   "outputs": [
    {
     "data": {
      "text/plain": [
       "array(nan)"
      ]
     },
     "execution_count": 59,
     "metadata": {},
     "output_type": "execute_result"
    }
   ],
   "source": [
    "mapping_function(3.5)"
   ]
  },
  {
   "cell_type": "code",
   "execution_count": null,
   "id": "8097f43e",
   "metadata": {},
   "outputs": [],
   "source": []
  }
 ],
 "metadata": {
  "interpreter": {
   "hash": "0c50aadaae22ca3edcb7dcdb26ddd57a7809ef554295fcfc563e8b7fd04b9644"
  },
  "kernelspec": {
   "display_name": "Python 3.8.8 64-bit ('base': conda)",
   "name": "python3"
  },
  "language_info": {
   "codemirror_mode": {
    "name": "ipython",
    "version": 3
   },
   "file_extension": ".py",
   "mimetype": "text/x-python",
   "name": "python",
   "nbconvert_exporter": "python",
   "pygments_lexer": "ipython3",
   "version": "3.8.8"
  }
 },
 "nbformat": 4,
 "nbformat_minor": 5
}
