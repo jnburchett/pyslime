{
 "cells": [
  {
   "cell_type": "code",
   "execution_count": null,
   "metadata": {},
   "outputs": [],
   "source": [
    "%matplotlib inline\n",
    "%config InlineBackend.figure_format = \"retina\"\n",
    "%load_ext autoreload\n",
    "%autoreload 2\n",
    "import importlib.resources\n",
    "from pyslime import slime\n",
    "from pyslime import utils as pu\n",
    "\n",
    "import pandas as pd\n",
    "import numpy as np\n",
    "from importlib import reload\n",
    "from matplotlib import pyplot as plt\n",
    "import glob\n",
    "import pickle\n",
    "from astropy.table import Table, vstack, unique\n",
    "from astropy.cosmology import Planck15 as cosmo\n",
    "\n",
    "from pyslime.pipeline import catalogs, interpolate\n",
    "\n",
    "\n",
    "datadir = \"/Volumes/GoogleDrive/My Drive/SlimeMold/2021-11-23-VACv2/\"\n",
    "packagedir = \"/Users/mwilde/python/pyslime/pyslime/data/\"\n",
    "dropboxdir = \"/Users/mwilde/Dropbox/slime-mold/data/final_data/\"\n",
    "pipedatadir = \"/Users/mwilde/python/pyslime/pyslime/pipeline/data/\"\n"
   ]
  },
  {
   "cell_type": "code",
   "execution_count": null,
   "metadata": {},
   "outputs": [],
   "source": [
    "glob.glob(datadir+\"*\")"
   ]
  },
  {
   "cell_type": "markdown",
   "metadata": {},
   "source": [
    "# this pretab is made via \n",
    "`catalogs.make_galaxy_cat_with_slimedens(datadir, packagedir)`"
   ]
  },
  {
   "cell_type": "code",
   "execution_count": null,
   "metadata": {},
   "outputs": [],
   "source": [
    "# pretab = catalogs.make_galaxy_cat_with_slimedens(datadir, pipedatadir)\n",
    "pretab = Table.read(datadir+\"prevac_catalog.csv\", format='ascii.csv')"
   ]
  },
  {
   "cell_type": "code",
   "execution_count": null,
   "metadata": {},
   "outputs": [],
   "source": [
    "xbreak0, y_const0, pfit0, xbreak5, y_const5, pfit5 = catalogs.load_mapfuncs(pipedatadir)"
   ]
  },
  {
   "cell_type": "code",
   "execution_count": null,
   "metadata": {},
   "outputs": [],
   "source": [
    "bins = np.linspace(-1,4, 500)\n",
    "\n",
    "\n",
    "z0 = interpolate.relu_p3(bins, xbreak0, y_const0, pfit0)\n",
    "z5 = interpolate.relu_p3(bins, xbreak5, y_const5, pfit5)\n",
    "\n",
    "plt.plot(bins, z0, label='z=0.0')\n",
    "plt.plot(bins, z5, label='z=0.5')\n",
    "plt.xlabel('sm dens')\n",
    "plt.ylabel('bp dens')\n",
    "plt.legend();"
   ]
  },
  {
   "cell_type": "code",
   "execution_count": null,
   "metadata": {},
   "outputs": [],
   "source": [
    "bins = np.linspace(-1,4, 1000)\n",
    "kwargs = {}\n",
    "kwargs['bins'] = bins\n",
    "kwargs['histtype'] = 'step'\n",
    "single_slice = pretab[pretab['MCPM_RUN'] == 7]\n",
    "\n",
    "plt.hist(single_slice['log10_slimedens'], **kwargs, label='sm');\n",
    "plt.hist(single_slice['log10_overdens'], **kwargs, label='mapped overdensity');\n",
    "# plt.hist(mapfunc0(pretab['log10_slimedens']), **kwargs, label='map0');\n",
    "# plt.hist(mapfunc5(pretab['log10_slimedens']), **kwargs, label='map0.5');\n",
    "plt.legend(bbox_to_anchor=(1.05,1))\n",
    "plt.title(\"dens at galaxy loc\");\n",
    "plt.xlabel(\"dens\")\n"
   ]
  },
  {
   "cell_type": "code",
   "execution_count": null,
   "metadata": {},
   "outputs": [],
   "source": [
    "bins = np.linspace(-1,4, 1000)\n",
    "kwargs = {}\n",
    "kwargs['bins'] = bins\n",
    "kwargs['histtype'] = 'step'\n",
    "pretab = pretab[pretab['MCPM_RUN'] == 1]\n",
    "\n",
    "z0 = interpolate.relu_p3(pretab['log10_slimedens'], xbreak0, y_const0, pfit0)\n",
    "z5 = interpolate.relu_p3(pretab['log10_slimedens'], xbreak5, y_const5, pfit5)\n",
    "\n",
    "g = np.random.normal(2.8, 0.3, 100000)\n",
    "\n",
    "zg = interpolate.relu_p3(g, xbreak0, y_const0, pfit0)\n",
    "\n",
    "plt.hist(pretab['log10_slimedens'], **kwargs, label='sm');\n",
    "# plt.hist(pretab['log10_overdens'], **kwargs, label='rho');\n",
    "plt.hist(z0, **kwargs, label='map0');\n",
    "# plt.hist(x(pretab['log10_slimedens']), **kwargs, label='map0');\n",
    "plt.hist(g, **kwargs, label='gaussian')\n",
    "plt.hist(zg, **kwargs, label='gaussian')\n",
    "# plt.hist(mapfunc5(pretab['log10_slimedens']), **kwargs, label='map0.5');\n",
    "plt.legend(bbox_to_anchor=(1.05,1))\n",
    "plt.title(\"dens at galaxy loc\");\n",
    "plt.xlabel(\"dens\")\n",
    "# plt.xlim(1.45, 1.58)\n"
   ]
  },
  {
   "cell_type": "code",
   "execution_count": null,
   "metadata": {},
   "outputs": [],
   "source": [
    "df = pretab.to_pandas()"
   ]
  },
  {
   "cell_type": "code",
   "execution_count": null,
   "metadata": {},
   "outputs": [],
   "source": [
    "galcat = Table.read(datadir + \"galaxy_cat_forSlime.csv\", format=\"ascii.ecsv\")"
   ]
  },
  {
   "cell_type": "code",
   "execution_count": null,
   "metadata": {},
   "outputs": [],
   "source": [
    "galcat = galcat.to_pandas()"
   ]
  },
  {
   "cell_type": "code",
   "execution_count": null,
   "metadata": {},
   "outputs": [],
   "source": [
    "spike = df.loc[(df.log10_overdens > 1.4) & (df.log10_overdens < 1.6)]"
   ]
  },
  {
   "cell_type": "code",
   "execution_count": null,
   "metadata": {},
   "outputs": [],
   "source": [
    "plt.plot(spike.log10_slimedens, spike.log10_overdens, '.')\n",
    "# plt.plot(df.log10_slimedens, df.log10_overdens, '.')"
   ]
  },
  {
   "cell_type": "code",
   "execution_count": null,
   "metadata": {},
   "outputs": [],
   "source": [
    "print(len(df))\n",
    "df.nunique()"
   ]
  },
  {
   "cell_type": "code",
   "execution_count": null,
   "metadata": {},
   "outputs": [],
   "source": [
    "print(len(spike))\n",
    "spike.nunique()"
   ]
  },
  {
   "cell_type": "code",
   "execution_count": null,
   "metadata": {},
   "outputs": [],
   "source": [
    "spike.log10_slimedens.min(), spike.log10_slimedens.max()"
   ]
  },
  {
   "cell_type": "markdown",
   "metadata": {},
   "source": [
    "# Here are the duplicated values in slimedens"
   ]
  },
  {
   "cell_type": "code",
   "execution_count": null,
   "metadata": {},
   "outputs": [],
   "source": [
    "def get_dups(df, col):\n",
    "    dups = pd.concat(g for _, g in df.groupby(col) if len(g) > 1)\n",
    "    return dups\n",
    "\n",
    "get_dups(df, \"log10_slimedens\")"
   ]
  },
  {
   "cell_type": "code",
   "execution_count": null,
   "metadata": {},
   "outputs": [],
   "source": [
    "slimedir = '/Volumes/GoogleDrive/My Drive/SlimeMold/2021-11-23-VACv2/LRG_NGC_z=0-1000mpc'\n",
    "\n",
    "slimeobj = slime.Slime.get_slime(slimedir, standardize=True)"
   ]
  },
  {
   "cell_type": "code",
   "execution_count": null,
   "metadata": {},
   "outputs": [],
   "source": [
    "tab = galcat\n",
    "lumcut = [0, 1000]\n",
    "flag = 1 \n",
    "\n",
    "if \"NGC\" in slimeobj.name:\n",
    "    subtable = tab[tab[\"survey\"] == \"LRG_NGC\"]\n",
    "elif \"SGC\" in slimeobj.name:\n",
    "    subtable = tab[tab[\"survey\"] == \"LRG_SGC\"]\n",
    "elif \"SDSS\" in slimeobj.name:\n",
    "    subtable = tab[tab[\"survey\"] == \"SDSS\"]\n",
    "else:\n",
    "    print(\"there is no subtable, chck this!!!!\")\n",
    "\n",
    "t = pd.DataFrame()\n",
    "t[\"ra\"] = subtable[\"RA\"]\n",
    "t[\"dec\"] = subtable[\"DEC\"]\n",
    "t[\"z\"] = subtable[\"Z\"]\n",
    "t[\"mstars\"] = subtable[\"MassStars\"]\n",
    "t[\"lumdist\"] = subtable[\"lumDist\"]\n",
    "t[\"MCPM_RUN\"] = flag\n",
    "\n",
    "cut = t[(t[\"lumdist\"] > lumcut[0]) & (t[\"lumdist\"] < lumcut[1])]\n",
    "galtrace = slimeobj.sky_to_data(\n",
    "    cut[\"ra\"], cut[\"dec\"], cut[\"z\"], check_bounds=True)"
   ]
  },
  {
   "cell_type": "code",
   "execution_count": null,
   "metadata": {},
   "outputs": [],
   "source": [
    "galtrace.shape"
   ]
  },
  {
   "cell_type": "code",
   "execution_count": null,
   "metadata": {},
   "outputs": [],
   "source": [
    "rho = mapfunc0(galtrace)"
   ]
  },
  {
   "cell_type": "code",
   "execution_count": null,
   "metadata": {},
   "outputs": [],
   "source": []
  },
  {
   "cell_type": "code",
   "execution_count": null,
   "metadata": {},
   "outputs": [],
   "source": [
    "u, c = np.unique(galtrace, return_counts=True)\n",
    "dup = u[c > 1 ]\n",
    "plt.hist(dup, bins=50);"
   ]
  },
  {
   "cell_type": "code",
   "execution_count": null,
   "metadata": {},
   "outputs": [],
   "source": [
    "u, c = np.unique(rho, return_counts=True)\n",
    "dup = u[c > 1 ]\n",
    "plt.hist(dup, bins=50);"
   ]
  },
  {
   "cell_type": "code",
   "execution_count": null,
   "metadata": {},
   "outputs": [],
   "source": [
    "df_trace = pd.Series({\"galtrace\":galtrace})"
   ]
  },
  {
   "cell_type": "code",
   "execution_count": null,
   "metadata": {},
   "outputs": [],
   "source": [
    "df_trace.duplicated()"
   ]
  },
  {
   "cell_type": "code",
   "execution_count": null,
   "metadata": {},
   "outputs": [],
   "source": [
    "cut"
   ]
  },
  {
   "cell_type": "code",
   "execution_count": null,
   "metadata": {},
   "outputs": [],
   "source": [
    "get_dups(df_trace, \"galtrace\")"
   ]
  },
  {
   "cell_type": "code",
   "execution_count": null,
   "metadata": {},
   "outputs": [],
   "source": []
  }
 ],
 "metadata": {
  "interpreter": {
   "hash": "0c50aadaae22ca3edcb7dcdb26ddd57a7809ef554295fcfc563e8b7fd04b9644"
  },
  "kernelspec": {
   "display_name": "Python 3.8.8 64-bit ('base': conda)",
   "language": "python",
   "name": "python3"
  },
  "language_info": {
   "codemirror_mode": {
    "name": "ipython",
    "version": 3
   },
   "file_extension": ".py",
   "mimetype": "text/x-python",
   "name": "python",
   "nbconvert_exporter": "python",
   "pygments_lexer": "ipython3",
   "version": "3.8.8"
  },
  "orig_nbformat": 4
 },
 "nbformat": 4,
 "nbformat_minor": 2
}
